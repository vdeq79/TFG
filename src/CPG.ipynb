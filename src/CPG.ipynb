{
 "cells": [
  {
   "cell_type": "code",
   "execution_count": 2,
   "metadata": {},
   "outputs": [],
   "source": [
    "import numpy as np\n",
    "from hmmlearn import hmm\n",
    "from termcolor import colored"
   ]
  },
  {
   "cell_type": "code",
   "execution_count": 3,
   "metadata": {},
   "outputs": [],
   "source": [
    "model = hmm.CategoricalHMM(n_components=2, n_features=2)"
   ]
  },
  {
   "cell_type": "code",
   "execution_count": 4,
   "metadata": {},
   "outputs": [],
   "source": [
    "model.startprob_ = np.array([0.5,0.5])"
   ]
  },
  {
   "cell_type": "code",
   "execution_count": 5,
   "metadata": {},
   "outputs": [],
   "source": [
    "model.transmat_ = np.array([[0.9,0.1],[0.1,0.9]])"
   ]
  },
  {
   "cell_type": "code",
   "execution_count": 6,
   "metadata": {},
   "outputs": [],
   "source": [
    "model.emissionprob_=np.array([[.75, 0.25],[0.4,0.6]])"
   ]
  },
  {
   "cell_type": "code",
   "execution_count": 7,
   "metadata": {},
   "outputs": [],
   "source": [
    "sample=\"TCTCGCTGCCGCCAACCCTCGGCGCCGTCGGGTTCGCCGCGGCTCTGATAAGTCCCGTTTATGGTACCCGGGCCGATCTCTGGTGGGAATCGGAGACCTGTGTACCCTGACGCATCCGTTTGTGTTCCCTACACGGCCGACGCAGACCGGGCGCGCGGCGCCACCCAACGAAGCCCGGGTATGGCACGTGCCCCAGGCGGTGCCCTACCCGTATTTCGGGACAAGTTCCCGGATCGGGTGAAAGTTAACGGAAGGATGCCAAGCAATAGCGGCCACAGGACCCGCCTGGCGACGCATGGACTGGATCCGGAGGTCTGGCCAACAGTTGATTTCATGGGTTACAGCCCCGGTGTAGATCCCCTCATGGTCTCCCGAACCGATTAGTTTGAAAACTGTATCTCCTGGCCGCCTAACAGGTATAAAGAGCCGGCTCACACTGGGGTGAGGGGGCGCGTGGCCCCCTT\""
   ]
  },
  {
   "cell_type": "code",
   "execution_count": 8,
   "metadata": {},
   "outputs": [
    {
     "data": {
      "text/plain": [
       "464"
      ]
     },
     "execution_count": 8,
     "metadata": {},
     "output_type": "execute_result"
    }
   ],
   "source": [
    "len(sample)"
   ]
  },
  {
   "cell_type": "code",
   "execution_count": 9,
   "metadata": {},
   "outputs": [],
   "source": [
    "sample_sym=np.array([[0 if letter == 'C' or letter == 'G' else 1] for letter in sample])"
   ]
  },
  {
   "cell_type": "code",
   "execution_count": 10,
   "metadata": {},
   "outputs": [
    {
     "data": {
      "text/plain": [
       "(-355.21489137499003,\n",
       " array([0, 0, 0, 0, 0, 0, 0, 0, 0, 0, 0, 0, 0, 0, 0, 0, 0, 0, 0, 0, 0, 0,\n",
       "        0, 0, 0, 0, 0, 0, 0, 0, 0, 0, 0, 0, 0, 0, 0, 0, 0, 0, 0, 0, 0, 1,\n",
       "        1, 1, 1, 1, 1, 1, 1, 1, 1, 1, 1, 1, 1, 1, 1, 1, 1, 1, 1, 1, 1, 1,\n",
       "        0, 0, 0, 0, 0, 0, 0, 0, 0, 0, 0, 0, 0, 0, 0, 0, 0, 0, 0, 0, 0, 0,\n",
       "        0, 0, 0, 0, 0, 0, 0, 0, 0, 0, 0, 0, 0, 0, 0, 0, 0, 0, 0, 0, 0, 0,\n",
       "        0, 0, 0, 0, 0, 0, 0, 0, 0, 0, 0, 0, 0, 0, 0, 0, 0, 0, 0, 0, 0, 0,\n",
       "        0, 0, 0, 0, 0, 0, 0, 0, 0, 0, 0, 0, 0, 0, 0, 0, 0, 0, 0, 0, 0, 0,\n",
       "        0, 0, 0, 0, 0, 0, 0, 0, 0, 0, 0, 0, 0, 0, 0, 0, 0, 0, 0, 0, 0, 0,\n",
       "        0, 0, 0, 0, 0, 0, 0, 0, 0, 0, 0, 0, 0, 0, 0, 0, 0, 0, 0, 0, 0, 0,\n",
       "        0, 0, 0, 0, 0, 0, 0, 0, 0, 0, 0, 0, 0, 1, 1, 1, 1, 1, 1, 1, 1, 1,\n",
       "        1, 1, 1, 1, 1, 1, 1, 1, 1, 1, 1, 1, 1, 1, 1, 1, 1, 1, 1, 1, 1, 1,\n",
       "        1, 1, 1, 1, 1, 1, 1, 1, 1, 1, 1, 1, 1, 1, 1, 1, 1, 1, 1, 1, 1, 1,\n",
       "        1, 1, 1, 1, 0, 0, 0, 0, 0, 0, 0, 0, 0, 0, 0, 0, 0, 0, 0, 0, 0, 0,\n",
       "        0, 0, 0, 0, 0, 0, 0, 0, 0, 0, 0, 0, 0, 0, 0, 0, 0, 0, 0, 0, 0, 0,\n",
       "        0, 0, 0, 0, 0, 0, 0, 0, 0, 0, 0, 0, 1, 1, 1, 1, 1, 1, 1, 1, 1, 1,\n",
       "        1, 1, 1, 1, 1, 1, 1, 1, 1, 1, 1, 1, 1, 0, 0, 0, 0, 0, 0, 0, 0, 0,\n",
       "        0, 0, 0, 0, 0, 0, 0, 0, 0, 0, 0, 0, 0, 0, 0, 0, 0, 0, 0, 0, 0, 0,\n",
       "        0, 0, 0, 0, 0, 1, 1, 1, 1, 1, 1, 1, 1, 1, 1, 1, 1, 1, 1, 1, 1, 1,\n",
       "        1, 1, 1, 1, 0, 0, 0, 0, 0, 0, 0, 0, 0, 0, 1, 1, 1, 1, 1, 1, 1, 1,\n",
       "        1, 1, 1, 1, 1, 1, 1, 0, 0, 0, 0, 0, 0, 0, 0, 0, 0, 0, 0, 0, 0, 0,\n",
       "        0, 0, 0, 0, 0, 0, 0, 0, 0, 0, 0, 0, 0, 0, 0, 0, 0, 0, 0, 0, 0, 0,\n",
       "        0, 0], dtype=int64))"
      ]
     },
     "execution_count": 10,
     "metadata": {},
     "output_type": "execute_result"
    }
   ],
   "source": [
    "result=model.decode(sample_sym)\n",
    "result"
   ]
  },
  {
   "cell_type": "code",
   "execution_count": 11,
   "metadata": {},
   "outputs": [
    {
     "name": "stdout",
     "output_type": "stream",
     "text": [
      "['+' '+' '+' '+' '+' '+' '+' '+' '+' '+' '+' '+' '+' '+' '+' '+' '+' '+'\n",
      " '+' '+' '+' '+' '+' '+' '+' '+' '+' '+' '+' '+' '+' '+' '+' '+' '+' '+'\n",
      " '+' '+' '+' '+' '+' '+' '+' '-' '-' '-' '-' '-' '-' '-' '-' '-' '-' '-'\n",
      " '-' '-' '-' '-' '-' '-' '-' '-' '-' '-' '-' '-' '+' '+' '+' '+' '+' '+'\n",
      " '+' '+' '+' '+' '+' '+' '+' '+' '+' '+' '+' '+' '+' '+' '+' '+' '+' '+'\n",
      " '+' '+' '+' '+' '+' '+' '+' '+' '+' '+' '+' '+' '+' '+' '+' '+' '+' '+'\n",
      " '+' '+' '+' '+' '+' '+' '+' '+' '+' '+' '+' '+' '+' '+' '+' '+' '+' '+'\n",
      " '+' '+' '+' '+' '+' '+' '+' '+' '+' '+' '+' '+' '+' '+' '+' '+' '+' '+'\n",
      " '+' '+' '+' '+' '+' '+' '+' '+' '+' '+' '+' '+' '+' '+' '+' '+' '+' '+'\n",
      " '+' '+' '+' '+' '+' '+' '+' '+' '+' '+' '+' '+' '+' '+' '+' '+' '+' '+'\n",
      " '+' '+' '+' '+' '+' '+' '+' '+' '+' '+' '+' '+' '+' '+' '+' '+' '+' '+'\n",
      " '+' '+' '+' '+' '+' '+' '+' '+' '+' '+' '+' '+' '+' '-' '-' '-' '-' '-'\n",
      " '-' '-' '-' '-' '-' '-' '-' '-' '-' '-' '-' '-' '-' '-' '-' '-' '-' '-'\n",
      " '-' '-' '-' '-' '-' '-' '-' '-' '-' '-' '-' '-' '-' '-' '-' '-' '-' '-'\n",
      " '-' '-' '-' '-' '-' '-' '-' '-' '-' '-' '-' '-' '-' '-' '-' '-' '+' '+'\n",
      " '+' '+' '+' '+' '+' '+' '+' '+' '+' '+' '+' '+' '+' '+' '+' '+' '+' '+'\n",
      " '+' '+' '+' '+' '+' '+' '+' '+' '+' '+' '+' '+' '+' '+' '+' '+' '+' '+'\n",
      " '+' '+' '+' '+' '+' '+' '+' '+' '+' '+' '+' '+' '+' '+' '-' '-' '-' '-'\n",
      " '-' '-' '-' '-' '-' '-' '-' '-' '-' '-' '-' '-' '-' '-' '-' '-' '-' '-'\n",
      " '-' '+' '+' '+' '+' '+' '+' '+' '+' '+' '+' '+' '+' '+' '+' '+' '+' '+'\n",
      " '+' '+' '+' '+' '+' '+' '+' '+' '+' '+' '+' '+' '+' '+' '+' '+' '+' '+'\n",
      " '+' '-' '-' '-' '-' '-' '-' '-' '-' '-' '-' '-' '-' '-' '-' '-' '-' '-'\n",
      " '-' '-' '-' '-' '+' '+' '+' '+' '+' '+' '+' '+' '+' '+' '-' '-' '-' '-'\n",
      " '-' '-' '-' '-' '-' '-' '-' '-' '-' '-' '-' '+' '+' '+' '+' '+' '+' '+'\n",
      " '+' '+' '+' '+' '+' '+' '+' '+' '+' '+' '+' '+' '+' '+' '+' '+' '+' '+'\n",
      " '+' '+' '+' '+' '+' '+' '+' '+' '+' '+' '+' '+' '+' '+']\n"
     ]
    }
   ],
   "source": [
    "result_sym=np.array(['+' if state==0 else '-' for state in result[1]])\n",
    "print(result_sym)"
   ]
  },
  {
   "cell_type": "code",
   "execution_count": 12,
   "metadata": {},
   "outputs": [
    {
     "data": {
      "text/plain": [
       "'+++++++++++++++++++++++++++++++++++++++++++-----------------------+++++++++++++++++++++++++++++++++++++++++++++++++++++++++++++++++++++++++++++++++++++++++++++++++++++++++++++++++++++++++++++++++++++++++++++++++---------------------------------------------------------++++++++++++++++++++++++++++++++++++++++++++++++++++-----------------------++++++++++++++++++++++++++++++++++++---------------------++++++++++---------------+++++++++++++++++++++++++++++++++++++++'"
      ]
     },
     "execution_count": 12,
     "metadata": {},
     "output_type": "execute_result"
    }
   ],
   "source": [
    "b=\"\".join(result_sym)\n",
    "b"
   ]
  },
  {
   "cell_type": "code",
   "execution_count": 13,
   "metadata": {},
   "outputs": [
    {
     "data": {
      "text/plain": [
       "464"
      ]
     },
     "execution_count": 13,
     "metadata": {},
     "output_type": "execute_result"
    }
   ],
   "source": [
    "r=\"++++++++++++++++++++++++++++++++++++++++++++++++++++++++++++--+++-++++++++++++++++++++++++++++++++++++++++++++++++++++++++++++++++++++++++++++++++++++++++++++++++++++++++++++++++++++++++++++++++++++++++++++++++++++++++++++++++-++++++++++++++++++---++++++++-++++++++---++++++++++++++++++++++++++++++++++++++++++++++++++++++++++++++--+--+++++-+-++++++++++++++++++++++++++++++++++++++++++--+----+-+---+-++++++++++++++++++++---+-+++++++++++++++++++++++++++++++++++++++\".replace(\" \", \"\")\n",
    "len(r)"
   ]
  },
  {
   "cell_type": "code",
   "execution_count": 14,
   "metadata": {},
   "outputs": [
    {
     "data": {
      "text/plain": [
       "464"
      ]
     },
     "execution_count": 14,
     "metadata": {},
     "output_type": "execute_result"
    }
   ],
   "source": [
    "len(b)"
   ]
  },
  {
   "cell_type": "code",
   "execution_count": 15,
   "metadata": {},
   "outputs": [
    {
     "data": {
      "text/plain": [
       "False"
      ]
     },
     "execution_count": 15,
     "metadata": {},
     "output_type": "execute_result"
    }
   ],
   "source": [
    "b==r"
   ]
  },
  {
   "cell_type": "code",
   "execution_count": 16,
   "metadata": {},
   "outputs": [
    {
     "name": "stdout",
     "output_type": "stream",
     "text": [
      "[True, True, True, True, True, True, True, True, True, True, True, True, True, True, True, True, True, True, True, True, True, True, True, True, True, True, True, True, True, True, True, True, True, True, True, True, True, True, True, True, True, True, True, False, False, False, False, False, False, False, False, False, False, False, False, False, False, False, False, False, True, True, False, False, False, True, True, True, True, True, True, True, True, True, True, True, True, True, True, True, True, True, True, True, True, True, True, True, True, True, True, True, True, True, True, True, True, True, True, True, True, True, True, True, True, True, True, True, True, True, True, True, True, True, True, True, True, True, True, True, True, True, True, True, True, True, True, True, True, True, True, True, True, True, True, True, True, True, True, True, True, True, True, True, True, True, True, True, True, True, True, True, True, True, True, True, True, True, True, True, True, True, True, True, True, True, True, True, True, True, True, True, True, True, True, True, True, True, True, True, True, True, True, True, True, True, True, True, True, True, True, True, True, True, True, True, True, True, True, True, True, True, True, True, True, True, True, True, True, True, True, False, False, False, False, False, False, False, False, False, False, False, False, False, False, False, True, False, False, False, False, False, False, False, False, False, False, False, False, False, False, False, False, False, False, True, True, True, False, False, False, False, False, False, False, False, True, False, False, False, False, False, False, False, False, True, True, True, True, True, True, True, True, True, True, True, True, True, True, True, True, True, True, True, True, True, True, True, True, True, True, True, True, True, True, True, True, True, True, True, True, True, True, True, True, True, True, True, True, True, True, True, True, True, True, True, True, True, True, True, False, False, False, False, False, False, False, False, False, False, True, True, False, True, True, False, False, False, False, False, True, False, True, True, True, True, True, True, True, True, True, True, True, True, True, True, True, True, True, True, True, True, True, True, True, True, True, True, True, True, True, True, True, True, True, True, True, True, True, False, False, False, False, False, False, True, True, False, True, True, True, True, False, True, False, True, True, True, False, True, True, True, True, True, True, True, True, True, True, True, False, False, False, False, False, False, False, False, False, False, True, True, True, False, True, True, True, True, True, True, True, True, True, True, True, True, True, True, True, True, True, True, True, True, True, True, True, True, True, True, True, True, True, True, True, True, True, True, True, True, True, True, True]\n"
     ]
    }
   ],
   "source": [
    "a = [result_sym[i] == r[i] for i in range(463) ]\n",
    "print(a)"
   ]
  },
  {
   "cell_type": "code",
   "execution_count": 20,
   "metadata": {},
   "outputs": [],
   "source": [
    "salida= ''.join( colored(sample[i], 'cyan') if result_sym[i]=='+' else colored(sample[i], 'red') for i in range(len(result_sym)) )"
   ]
  },
  {
   "cell_type": "code",
   "execution_count": 21,
   "metadata": {},
   "outputs": [
    {
     "name": "stdout",
     "output_type": "stream",
     "text": [
      "\u001b[36mT\u001b[0m\u001b[36mC\u001b[0m\u001b[36mT\u001b[0m\u001b[36mC\u001b[0m\u001b[36mG\u001b[0m\u001b[36mC\u001b[0m\u001b[36mT\u001b[0m\u001b[36mG\u001b[0m\u001b[36mC\u001b[0m\u001b[36mC\u001b[0m\u001b[36mG\u001b[0m\u001b[36mC\u001b[0m\u001b[36mC\u001b[0m\u001b[36mA\u001b[0m\u001b[36mA\u001b[0m\u001b[36mC\u001b[0m\u001b[36mC\u001b[0m\u001b[36mC\u001b[0m\u001b[36mT\u001b[0m\u001b[36mC\u001b[0m\u001b[36mG\u001b[0m\u001b[36mG\u001b[0m\u001b[36mC\u001b[0m\u001b[36mG\u001b[0m\u001b[36mC\u001b[0m\u001b[36mC\u001b[0m\u001b[36mG\u001b[0m\u001b[36mT\u001b[0m\u001b[36mC\u001b[0m\u001b[36mG\u001b[0m\u001b[36mG\u001b[0m\u001b[36mG\u001b[0m\u001b[36mT\u001b[0m\u001b[36mT\u001b[0m\u001b[36mC\u001b[0m\u001b[36mG\u001b[0m\u001b[36mC\u001b[0m\u001b[36mC\u001b[0m\u001b[36mG\u001b[0m\u001b[36mC\u001b[0m\u001b[36mG\u001b[0m\u001b[36mG\u001b[0m\u001b[36mC\u001b[0m\u001b[31mT\u001b[0m\u001b[31mC\u001b[0m\u001b[31mT\u001b[0m\u001b[31mG\u001b[0m\u001b[31mA\u001b[0m\u001b[31mT\u001b[0m\u001b[31mA\u001b[0m\u001b[31mA\u001b[0m\u001b[31mG\u001b[0m\u001b[31mT\u001b[0m\u001b[31mC\u001b[0m\u001b[31mC\u001b[0m\u001b[31mC\u001b[0m\u001b[31mG\u001b[0m\u001b[31mT\u001b[0m\u001b[31mT\u001b[0m\u001b[31mT\u001b[0m\u001b[31mA\u001b[0m\u001b[31mT\u001b[0m\u001b[31mG\u001b[0m\u001b[31mG\u001b[0m\u001b[31mT\u001b[0m\u001b[31mA\u001b[0m\u001b[36mC\u001b[0m\u001b[36mC\u001b[0m\u001b[36mC\u001b[0m\u001b[36mG\u001b[0m\u001b[36mG\u001b[0m\u001b[36mG\u001b[0m\u001b[36mC\u001b[0m\u001b[36mC\u001b[0m\u001b[36mG\u001b[0m\u001b[36mA\u001b[0m\u001b[36mT\u001b[0m\u001b[36mC\u001b[0m\u001b[36mT\u001b[0m\u001b[36mC\u001b[0m\u001b[36mT\u001b[0m\u001b[36mG\u001b[0m\u001b[36mG\u001b[0m\u001b[36mT\u001b[0m\u001b[36mG\u001b[0m\u001b[36mG\u001b[0m\u001b[36mG\u001b[0m\u001b[36mA\u001b[0m\u001b[36mA\u001b[0m\u001b[36mT\u001b[0m\u001b[36mC\u001b[0m\u001b[36mG\u001b[0m\u001b[36mG\u001b[0m\u001b[36mA\u001b[0m\u001b[36mG\u001b[0m\u001b[36mA\u001b[0m\u001b[36mC\u001b[0m\u001b[36mC\u001b[0m\u001b[36mT\u001b[0m\u001b[36mG\u001b[0m\u001b[36mT\u001b[0m\u001b[36mG\u001b[0m\u001b[36mT\u001b[0m\u001b[36mA\u001b[0m\u001b[36mC\u001b[0m\u001b[36mC\u001b[0m\u001b[36mC\u001b[0m\u001b[36mT\u001b[0m\u001b[36mG\u001b[0m\u001b[36mA\u001b[0m\u001b[36mC\u001b[0m\u001b[36mG\u001b[0m\u001b[36mC\u001b[0m\u001b[36mA\u001b[0m\u001b[36mT\u001b[0m\u001b[36mC\u001b[0m\u001b[36mC\u001b[0m\u001b[36mG\u001b[0m\u001b[36mT\u001b[0m\u001b[36mT\u001b[0m\u001b[36mT\u001b[0m\u001b[36mG\u001b[0m\u001b[36mT\u001b[0m\u001b[36mG\u001b[0m\u001b[36mT\u001b[0m\u001b[36mT\u001b[0m\u001b[36mC\u001b[0m\u001b[36mC\u001b[0m\u001b[36mC\u001b[0m\u001b[36mT\u001b[0m\u001b[36mA\u001b[0m\u001b[36mC\u001b[0m\u001b[36mA\u001b[0m\u001b[36mC\u001b[0m\u001b[36mG\u001b[0m\u001b[36mG\u001b[0m\u001b[36mC\u001b[0m\u001b[36mC\u001b[0m\u001b[36mG\u001b[0m\u001b[36mA\u001b[0m\u001b[36mC\u001b[0m\u001b[36mG\u001b[0m\u001b[36mC\u001b[0m\u001b[36mA\u001b[0m\u001b[36mG\u001b[0m\u001b[36mA\u001b[0m\u001b[36mC\u001b[0m\u001b[36mC\u001b[0m\u001b[36mG\u001b[0m\u001b[36mG\u001b[0m\u001b[36mG\u001b[0m\u001b[36mC\u001b[0m\u001b[36mG\u001b[0m\u001b[36mC\u001b[0m\u001b[36mG\u001b[0m\u001b[36mC\u001b[0m\u001b[36mG\u001b[0m\u001b[36mG\u001b[0m\u001b[36mC\u001b[0m\u001b[36mG\u001b[0m\u001b[36mC\u001b[0m\u001b[36mC\u001b[0m\u001b[36mA\u001b[0m\u001b[36mC\u001b[0m\u001b[36mC\u001b[0m\u001b[36mC\u001b[0m\u001b[36mA\u001b[0m\u001b[36mA\u001b[0m\u001b[36mC\u001b[0m\u001b[36mG\u001b[0m\u001b[36mA\u001b[0m\u001b[36mA\u001b[0m\u001b[36mG\u001b[0m\u001b[36mC\u001b[0m\u001b[36mC\u001b[0m\u001b[36mC\u001b[0m\u001b[36mG\u001b[0m\u001b[36mG\u001b[0m\u001b[36mG\u001b[0m\u001b[36mT\u001b[0m\u001b[36mA\u001b[0m\u001b[36mT\u001b[0m\u001b[36mG\u001b[0m\u001b[36mG\u001b[0m\u001b[36mC\u001b[0m\u001b[36mA\u001b[0m\u001b[36mC\u001b[0m\u001b[36mG\u001b[0m\u001b[36mT\u001b[0m\u001b[36mG\u001b[0m\u001b[36mC\u001b[0m\u001b[36mC\u001b[0m\u001b[36mC\u001b[0m\u001b[36mC\u001b[0m\u001b[36mA\u001b[0m\u001b[36mG\u001b[0m\u001b[36mG\u001b[0m\u001b[36mC\u001b[0m\u001b[36mG\u001b[0m\u001b[36mG\u001b[0m\u001b[36mT\u001b[0m\u001b[36mG\u001b[0m\u001b[36mC\u001b[0m\u001b[36mC\u001b[0m\u001b[36mC\u001b[0m\u001b[36mT\u001b[0m\u001b[36mA\u001b[0m\u001b[36mC\u001b[0m\u001b[36mC\u001b[0m\u001b[36mC\u001b[0m\u001b[36mG\u001b[0m\u001b[31mT\u001b[0m\u001b[31mA\u001b[0m\u001b[31mT\u001b[0m\u001b[31mT\u001b[0m\u001b[31mT\u001b[0m\u001b[31mC\u001b[0m\u001b[31mG\u001b[0m\u001b[31mG\u001b[0m\u001b[31mG\u001b[0m\u001b[31mA\u001b[0m\u001b[31mC\u001b[0m\u001b[31mA\u001b[0m\u001b[31mA\u001b[0m\u001b[31mG\u001b[0m\u001b[31mT\u001b[0m\u001b[31mT\u001b[0m\u001b[31mC\u001b[0m\u001b[31mC\u001b[0m\u001b[31mC\u001b[0m\u001b[31mG\u001b[0m\u001b[31mG\u001b[0m\u001b[31mA\u001b[0m\u001b[31mT\u001b[0m\u001b[31mC\u001b[0m\u001b[31mG\u001b[0m\u001b[31mG\u001b[0m\u001b[31mG\u001b[0m\u001b[31mT\u001b[0m\u001b[31mG\u001b[0m\u001b[31mA\u001b[0m\u001b[31mA\u001b[0m\u001b[31mA\u001b[0m\u001b[31mG\u001b[0m\u001b[31mT\u001b[0m\u001b[31mT\u001b[0m\u001b[31mA\u001b[0m\u001b[31mA\u001b[0m\u001b[31mC\u001b[0m\u001b[31mG\u001b[0m\u001b[31mG\u001b[0m\u001b[31mA\u001b[0m\u001b[31mA\u001b[0m\u001b[31mG\u001b[0m\u001b[31mG\u001b[0m\u001b[31mA\u001b[0m\u001b[31mT\u001b[0m\u001b[31mG\u001b[0m\u001b[31mC\u001b[0m\u001b[31mC\u001b[0m\u001b[31mA\u001b[0m\u001b[31mA\u001b[0m\u001b[31mG\u001b[0m\u001b[31mC\u001b[0m\u001b[31mA\u001b[0m\u001b[31mA\u001b[0m\u001b[31mT\u001b[0m\u001b[31mA\u001b[0m\u001b[36mG\u001b[0m\u001b[36mC\u001b[0m\u001b[36mG\u001b[0m\u001b[36mG\u001b[0m\u001b[36mC\u001b[0m\u001b[36mC\u001b[0m\u001b[36mA\u001b[0m\u001b[36mC\u001b[0m\u001b[36mA\u001b[0m\u001b[36mG\u001b[0m\u001b[36mG\u001b[0m\u001b[36mA\u001b[0m\u001b[36mC\u001b[0m\u001b[36mC\u001b[0m\u001b[36mC\u001b[0m\u001b[36mG\u001b[0m\u001b[36mC\u001b[0m\u001b[36mC\u001b[0m\u001b[36mT\u001b[0m\u001b[36mG\u001b[0m\u001b[36mG\u001b[0m\u001b[36mC\u001b[0m\u001b[36mG\u001b[0m\u001b[36mA\u001b[0m\u001b[36mC\u001b[0m\u001b[36mG\u001b[0m\u001b[36mC\u001b[0m\u001b[36mA\u001b[0m\u001b[36mT\u001b[0m\u001b[36mG\u001b[0m\u001b[36mG\u001b[0m\u001b[36mA\u001b[0m\u001b[36mC\u001b[0m\u001b[36mT\u001b[0m\u001b[36mG\u001b[0m\u001b[36mG\u001b[0m\u001b[36mA\u001b[0m\u001b[36mT\u001b[0m\u001b[36mC\u001b[0m\u001b[36mC\u001b[0m\u001b[36mG\u001b[0m\u001b[36mG\u001b[0m\u001b[36mA\u001b[0m\u001b[36mG\u001b[0m\u001b[36mG\u001b[0m\u001b[36mT\u001b[0m\u001b[36mC\u001b[0m\u001b[36mT\u001b[0m\u001b[36mG\u001b[0m\u001b[36mG\u001b[0m\u001b[36mC\u001b[0m\u001b[36mC\u001b[0m\u001b[31mA\u001b[0m\u001b[31mA\u001b[0m\u001b[31mC\u001b[0m\u001b[31mA\u001b[0m\u001b[31mG\u001b[0m\u001b[31mT\u001b[0m\u001b[31mT\u001b[0m\u001b[31mG\u001b[0m\u001b[31mA\u001b[0m\u001b[31mT\u001b[0m\u001b[31mT\u001b[0m\u001b[31mT\u001b[0m\u001b[31mC\u001b[0m\u001b[31mA\u001b[0m\u001b[31mT\u001b[0m\u001b[31mG\u001b[0m\u001b[31mG\u001b[0m\u001b[31mG\u001b[0m\u001b[31mT\u001b[0m\u001b[31mT\u001b[0m\u001b[31mA\u001b[0m\u001b[31mC\u001b[0m\u001b[31mA\u001b[0m\u001b[36mG\u001b[0m\u001b[36mC\u001b[0m\u001b[36mC\u001b[0m\u001b[36mC\u001b[0m\u001b[36mC\u001b[0m\u001b[36mG\u001b[0m\u001b[36mG\u001b[0m\u001b[36mT\u001b[0m\u001b[36mG\u001b[0m\u001b[36mT\u001b[0m\u001b[36mA\u001b[0m\u001b[36mG\u001b[0m\u001b[36mA\u001b[0m\u001b[36mT\u001b[0m\u001b[36mC\u001b[0m\u001b[36mC\u001b[0m\u001b[36mC\u001b[0m\u001b[36mC\u001b[0m\u001b[36mT\u001b[0m\u001b[36mC\u001b[0m\u001b[36mA\u001b[0m\u001b[36mT\u001b[0m\u001b[36mG\u001b[0m\u001b[36mG\u001b[0m\u001b[36mT\u001b[0m\u001b[36mC\u001b[0m\u001b[36mT\u001b[0m\u001b[36mC\u001b[0m\u001b[36mC\u001b[0m\u001b[36mC\u001b[0m\u001b[36mG\u001b[0m\u001b[36mA\u001b[0m\u001b[36mA\u001b[0m\u001b[36mC\u001b[0m\u001b[36mC\u001b[0m\u001b[36mG\u001b[0m\u001b[31mA\u001b[0m\u001b[31mT\u001b[0m\u001b[31mT\u001b[0m\u001b[31mA\u001b[0m\u001b[31mG\u001b[0m\u001b[31mT\u001b[0m\u001b[31mT\u001b[0m\u001b[31mT\u001b[0m\u001b[31mG\u001b[0m\u001b[31mA\u001b[0m\u001b[31mA\u001b[0m\u001b[31mA\u001b[0m\u001b[31mA\u001b[0m\u001b[31mC\u001b[0m\u001b[31mT\u001b[0m\u001b[31mG\u001b[0m\u001b[31mT\u001b[0m\u001b[31mA\u001b[0m\u001b[31mT\u001b[0m\u001b[31mC\u001b[0m\u001b[31mT\u001b[0m\u001b[36mC\u001b[0m\u001b[36mC\u001b[0m\u001b[36mT\u001b[0m\u001b[36mG\u001b[0m\u001b[36mG\u001b[0m\u001b[36mC\u001b[0m\u001b[36mC\u001b[0m\u001b[36mG\u001b[0m\u001b[36mC\u001b[0m\u001b[36mC\u001b[0m\u001b[31mT\u001b[0m\u001b[31mA\u001b[0m\u001b[31mA\u001b[0m\u001b[31mC\u001b[0m\u001b[31mA\u001b[0m\u001b[31mG\u001b[0m\u001b[31mG\u001b[0m\u001b[31mT\u001b[0m\u001b[31mA\u001b[0m\u001b[31mT\u001b[0m\u001b[31mA\u001b[0m\u001b[31mA\u001b[0m\u001b[31mA\u001b[0m\u001b[31mG\u001b[0m\u001b[31mA\u001b[0m\u001b[36mG\u001b[0m\u001b[36mC\u001b[0m\u001b[36mC\u001b[0m\u001b[36mG\u001b[0m\u001b[36mG\u001b[0m\u001b[36mC\u001b[0m\u001b[36mT\u001b[0m\u001b[36mC\u001b[0m\u001b[36mA\u001b[0m\u001b[36mC\u001b[0m\u001b[36mA\u001b[0m\u001b[36mC\u001b[0m\u001b[36mT\u001b[0m\u001b[36mG\u001b[0m\u001b[36mG\u001b[0m\u001b[36mG\u001b[0m\u001b[36mG\u001b[0m\u001b[36mT\u001b[0m\u001b[36mG\u001b[0m\u001b[36mA\u001b[0m\u001b[36mG\u001b[0m\u001b[36mG\u001b[0m\u001b[36mG\u001b[0m\u001b[36mG\u001b[0m\u001b[36mG\u001b[0m\u001b[36mC\u001b[0m\u001b[36mG\u001b[0m\u001b[36mC\u001b[0m\u001b[36mG\u001b[0m\u001b[36mT\u001b[0m\u001b[36mG\u001b[0m\u001b[36mG\u001b[0m\u001b[36mC\u001b[0m\u001b[36mC\u001b[0m\u001b[36mC\u001b[0m\u001b[36mC\u001b[0m\u001b[36mC\u001b[0m\u001b[36mT\u001b[0m\u001b[36mT\u001b[0m\n"
     ]
    }
   ],
   "source": [
    "print(salida)"
   ]
  },
  {
   "cell_type": "code",
   "execution_count": 22,
   "metadata": {},
   "outputs": [
    {
     "data": {
      "text/plain": [
       "464"
      ]
     },
     "execution_count": 22,
     "metadata": {},
     "output_type": "execute_result"
    }
   ],
   "source": [
    "len(\"TCTCGCTGCCGCCAACCCTCGGCGCCGTCGGGTTCGCCGCGGCTCTGATAAGTCCCGTTTATGGTACCCGGGCCGATCTCTGGTGGGAATCGGAGACCTGTGTACCCTGACGCATCCGTTTGTGTTCCCTACACGGCCGACGCAGACCGGGCGCGCGGCGCCACCCAACGAAGCCCGGGTATGGCACGTGCCCCAGGCGGTGCCCTACCCGTATTTCGGGACAAGTTCCCGGATCGGGTGAAAGTTAACGGAAGGATGCCAAGCAATAGCGGCCACAGGACCCGCCTGGCGACGCATGGACTGGATCCGGAGGTCTGGCCAACAGTTGATTTCATGGGTTACAGCCCCGGTGTAGATCCCCTCATGGTCTCCCGAACCGATTAGTTTGAAAACTGTATCTCCTGGCCGCCTAACAGGTATAAAGAGCCGGCTCACACTGGGGTGAGGGGGCGCGTGGCCCCCTT\")"
   ]
  }
 ],
 "metadata": {
  "kernelspec": {
   "display_name": "Python 3",
   "language": "python",
   "name": "python3"
  },
  "language_info": {
   "codemirror_mode": {
    "name": "ipython",
    "version": 3
   },
   "file_extension": ".py",
   "mimetype": "text/x-python",
   "name": "python",
   "nbconvert_exporter": "python",
   "pygments_lexer": "ipython3",
   "version": "3.11.2"
  },
  "orig_nbformat": 4
 },
 "nbformat": 4,
 "nbformat_minor": 2
}
