{
 "cells": [
  {
   "cell_type": "code",
   "execution_count": 8,
   "metadata": {},
   "outputs": [],
   "source": [
    "import numpy as np\n",
    "from hmmlearn import hmm\n",
    "from termcolor import colored"
   ]
  },
  {
   "cell_type": "code",
   "execution_count": 9,
   "metadata": {},
   "outputs": [],
   "source": [
    "#Construimos nuestro modelo\n",
    "model=hmm.CategoricalHMM(n_components=2, n_features=2)\n",
    "model.startprob_=np.array([0.5,0.5])\n",
    "model.transmat_=np.array([[0.9,0.1],[0.1,0.9]])\n",
    "model.emissionprob_=np.array([[.75, 0.25],[0.4,0.6]])"
   ]
  },
  {
   "cell_type": "code",
   "execution_count": 10,
   "metadata": {},
   "outputs": [],
   "source": [
    "#Declaramos la secuencia que queremos tratar\n",
    "sample=\"TCTCGCTGCCGCCAACCCTCGGCGCCGTCGGGTTCGCCGCGGCTCTGATAAGTCCCGTTTATGGTACCCGGGCCGATCTCTGGTGGGAATCGGAGACCTGTGTACCCTGACGCATCCGTTTGTGTTCCCTACACGGCCGACGCAGACCGGGCGCGCGGCGCCACCCAACGAAGCCCGGGTATGGCACGTGCCCCAGGCGGTGCCCTACCCGTATTTCGGGACAAGTTCCCGGATCGGGTGAAAGTTAACGGAAGGATGCCAAGCAATAGCGGCCACAGGACCCGCCTGGCGACGCATGGACTGGATCCGGAGGTCTGGCCAACAGTTGATTTCATGGGTTACAGCCCCGGTGTAGATCCCCTCATGGTCTCCCGAACCGATTAGTTTGAAAACTGTATCTCCTGGCCGCCTAACAGGTATAAAGAGCCGGCTCACACTGGGGTGAGGGGGCGCGTGGCCCCCTT\""
   ]
  },
  {
   "cell_type": "code",
   "execution_count": 11,
   "metadata": {},
   "outputs": [],
   "source": [
    "#Consideramos una emisión como la presencia de C o G y otra la presencia de A o T\n",
    "sample_sym=np.array([[0 if letter == 'C' or letter == 'G' else 1] for letter in sample])"
   ]
  },
  {
   "cell_type": "code",
   "execution_count": 12,
   "metadata": {},
   "outputs": [
    {
     "name": "stdout",
     "output_type": "stream",
     "text": [
      "+++++++++++++++++++++++++++++++++++++++++++-----------------------+++++++++++++++++++++++++++++++++++++++++++++++++++++++++++++++++++++++++++++++++++++++++++++++++++++++++++++++++++++++++++++++++++++++++++++++++---------------------------------------------------------++++++++++++++++++++++++++++++++++++++++++++++++++++-----------------------++++++++++++++++++++++++++++++++++++---------------------++++++++++---------------+++++++++++++++++++++++++++++++++++++++\n"
     ]
    }
   ],
   "source": [
    "log_prob, result=model.decode(sample_sym)\n",
    "#Tranformamos la salida a los estados\n",
    "result_sym=np.array(['+' if state==0 else '-' for state in result])\n",
    "print(\"\".join(result_sym))"
   ]
  },
  {
   "cell_type": "code",
   "execution_count": 13,
   "metadata": {},
   "outputs": [],
   "source": [
    "salida= ''.join( colored(sample[i], 'cyan') if result_sym[i]=='+' else colored(sample[i], 'red') for i in range(len(result_sym)) )"
   ]
  },
  {
   "cell_type": "code",
   "execution_count": 14,
   "metadata": {},
   "outputs": [
    {
     "name": "stdout",
     "output_type": "stream",
     "text": [
      "\u001b[36mT\u001b[0m\u001b[36mC\u001b[0m\u001b[36mT\u001b[0m\u001b[36mC\u001b[0m\u001b[36mG\u001b[0m\u001b[36mC\u001b[0m\u001b[36mT\u001b[0m\u001b[36mG\u001b[0m\u001b[36mC\u001b[0m\u001b[36mC\u001b[0m\u001b[36mG\u001b[0m\u001b[36mC\u001b[0m\u001b[36mC\u001b[0m\u001b[36mA\u001b[0m\u001b[36mA\u001b[0m\u001b[36mC\u001b[0m\u001b[36mC\u001b[0m\u001b[36mC\u001b[0m\u001b[36mT\u001b[0m\u001b[36mC\u001b[0m\u001b[36mG\u001b[0m\u001b[36mG\u001b[0m\u001b[36mC\u001b[0m\u001b[36mG\u001b[0m\u001b[36mC\u001b[0m\u001b[36mC\u001b[0m\u001b[36mG\u001b[0m\u001b[36mT\u001b[0m\u001b[36mC\u001b[0m\u001b[36mG\u001b[0m\u001b[36mG\u001b[0m\u001b[36mG\u001b[0m\u001b[36mT\u001b[0m\u001b[36mT\u001b[0m\u001b[36mC\u001b[0m\u001b[36mG\u001b[0m\u001b[36mC\u001b[0m\u001b[36mC\u001b[0m\u001b[36mG\u001b[0m\u001b[36mC\u001b[0m\u001b[36mG\u001b[0m\u001b[36mG\u001b[0m\u001b[36mC\u001b[0m\u001b[31mT\u001b[0m\u001b[31mC\u001b[0m\u001b[31mT\u001b[0m\u001b[31mG\u001b[0m\u001b[31mA\u001b[0m\u001b[31mT\u001b[0m\u001b[31mA\u001b[0m\u001b[31mA\u001b[0m\u001b[31mG\u001b[0m\u001b[31mT\u001b[0m\u001b[31mC\u001b[0m\u001b[31mC\u001b[0m\u001b[31mC\u001b[0m\u001b[31mG\u001b[0m\u001b[31mT\u001b[0m\u001b[31mT\u001b[0m\u001b[31mT\u001b[0m\u001b[31mA\u001b[0m\u001b[31mT\u001b[0m\u001b[31mG\u001b[0m\u001b[31mG\u001b[0m\u001b[31mT\u001b[0m\u001b[31mA\u001b[0m\u001b[36mC\u001b[0m\u001b[36mC\u001b[0m\u001b[36mC\u001b[0m\u001b[36mG\u001b[0m\u001b[36mG\u001b[0m\u001b[36mG\u001b[0m\u001b[36mC\u001b[0m\u001b[36mC\u001b[0m\u001b[36mG\u001b[0m\u001b[36mA\u001b[0m\u001b[36mT\u001b[0m\u001b[36mC\u001b[0m\u001b[36mT\u001b[0m\u001b[36mC\u001b[0m\u001b[36mT\u001b[0m\u001b[36mG\u001b[0m\u001b[36mG\u001b[0m\u001b[36mT\u001b[0m\u001b[36mG\u001b[0m\u001b[36mG\u001b[0m\u001b[36mG\u001b[0m\u001b[36mA\u001b[0m\u001b[36mA\u001b[0m\u001b[36mT\u001b[0m\u001b[36mC\u001b[0m\u001b[36mG\u001b[0m\u001b[36mG\u001b[0m\u001b[36mA\u001b[0m\u001b[36mG\u001b[0m\u001b[36mA\u001b[0m\u001b[36mC\u001b[0m\u001b[36mC\u001b[0m\u001b[36mT\u001b[0m\u001b[36mG\u001b[0m\u001b[36mT\u001b[0m\u001b[36mG\u001b[0m\u001b[36mT\u001b[0m\u001b[36mA\u001b[0m\u001b[36mC\u001b[0m\u001b[36mC\u001b[0m\u001b[36mC\u001b[0m\u001b[36mT\u001b[0m\u001b[36mG\u001b[0m\u001b[36mA\u001b[0m\u001b[36mC\u001b[0m\u001b[36mG\u001b[0m\u001b[36mC\u001b[0m\u001b[36mA\u001b[0m\u001b[36mT\u001b[0m\u001b[36mC\u001b[0m\u001b[36mC\u001b[0m\u001b[36mG\u001b[0m\u001b[36mT\u001b[0m\u001b[36mT\u001b[0m\u001b[36mT\u001b[0m\u001b[36mG\u001b[0m\u001b[36mT\u001b[0m\u001b[36mG\u001b[0m\u001b[36mT\u001b[0m\u001b[36mT\u001b[0m\u001b[36mC\u001b[0m\u001b[36mC\u001b[0m\u001b[36mC\u001b[0m\u001b[36mT\u001b[0m\u001b[36mA\u001b[0m\u001b[36mC\u001b[0m\u001b[36mA\u001b[0m\u001b[36mC\u001b[0m\u001b[36mG\u001b[0m\u001b[36mG\u001b[0m\u001b[36mC\u001b[0m\u001b[36mC\u001b[0m\u001b[36mG\u001b[0m\u001b[36mA\u001b[0m\u001b[36mC\u001b[0m\u001b[36mG\u001b[0m\u001b[36mC\u001b[0m\u001b[36mA\u001b[0m\u001b[36mG\u001b[0m\u001b[36mA\u001b[0m\u001b[36mC\u001b[0m\u001b[36mC\u001b[0m\u001b[36mG\u001b[0m\u001b[36mG\u001b[0m\u001b[36mG\u001b[0m\u001b[36mC\u001b[0m\u001b[36mG\u001b[0m\u001b[36mC\u001b[0m\u001b[36mG\u001b[0m\u001b[36mC\u001b[0m\u001b[36mG\u001b[0m\u001b[36mG\u001b[0m\u001b[36mC\u001b[0m\u001b[36mG\u001b[0m\u001b[36mC\u001b[0m\u001b[36mC\u001b[0m\u001b[36mA\u001b[0m\u001b[36mC\u001b[0m\u001b[36mC\u001b[0m\u001b[36mC\u001b[0m\u001b[36mA\u001b[0m\u001b[36mA\u001b[0m\u001b[36mC\u001b[0m\u001b[36mG\u001b[0m\u001b[36mA\u001b[0m\u001b[36mA\u001b[0m\u001b[36mG\u001b[0m\u001b[36mC\u001b[0m\u001b[36mC\u001b[0m\u001b[36mC\u001b[0m\u001b[36mG\u001b[0m\u001b[36mG\u001b[0m\u001b[36mG\u001b[0m\u001b[36mT\u001b[0m\u001b[36mA\u001b[0m\u001b[36mT\u001b[0m\u001b[36mG\u001b[0m\u001b[36mG\u001b[0m\u001b[36mC\u001b[0m\u001b[36mA\u001b[0m\u001b[36mC\u001b[0m\u001b[36mG\u001b[0m\u001b[36mT\u001b[0m\u001b[36mG\u001b[0m\u001b[36mC\u001b[0m\u001b[36mC\u001b[0m\u001b[36mC\u001b[0m\u001b[36mC\u001b[0m\u001b[36mA\u001b[0m\u001b[36mG\u001b[0m\u001b[36mG\u001b[0m\u001b[36mC\u001b[0m\u001b[36mG\u001b[0m\u001b[36mG\u001b[0m\u001b[36mT\u001b[0m\u001b[36mG\u001b[0m\u001b[36mC\u001b[0m\u001b[36mC\u001b[0m\u001b[36mC\u001b[0m\u001b[36mT\u001b[0m\u001b[36mA\u001b[0m\u001b[36mC\u001b[0m\u001b[36mC\u001b[0m\u001b[36mC\u001b[0m\u001b[36mG\u001b[0m\u001b[31mT\u001b[0m\u001b[31mA\u001b[0m\u001b[31mT\u001b[0m\u001b[31mT\u001b[0m\u001b[31mT\u001b[0m\u001b[31mC\u001b[0m\u001b[31mG\u001b[0m\u001b[31mG\u001b[0m\u001b[31mG\u001b[0m\u001b[31mA\u001b[0m\u001b[31mC\u001b[0m\u001b[31mA\u001b[0m\u001b[31mA\u001b[0m\u001b[31mG\u001b[0m\u001b[31mT\u001b[0m\u001b[31mT\u001b[0m\u001b[31mC\u001b[0m\u001b[31mC\u001b[0m\u001b[31mC\u001b[0m\u001b[31mG\u001b[0m\u001b[31mG\u001b[0m\u001b[31mA\u001b[0m\u001b[31mT\u001b[0m\u001b[31mC\u001b[0m\u001b[31mG\u001b[0m\u001b[31mG\u001b[0m\u001b[31mG\u001b[0m\u001b[31mT\u001b[0m\u001b[31mG\u001b[0m\u001b[31mA\u001b[0m\u001b[31mA\u001b[0m\u001b[31mA\u001b[0m\u001b[31mG\u001b[0m\u001b[31mT\u001b[0m\u001b[31mT\u001b[0m\u001b[31mA\u001b[0m\u001b[31mA\u001b[0m\u001b[31mC\u001b[0m\u001b[31mG\u001b[0m\u001b[31mG\u001b[0m\u001b[31mA\u001b[0m\u001b[31mA\u001b[0m\u001b[31mG\u001b[0m\u001b[31mG\u001b[0m\u001b[31mA\u001b[0m\u001b[31mT\u001b[0m\u001b[31mG\u001b[0m\u001b[31mC\u001b[0m\u001b[31mC\u001b[0m\u001b[31mA\u001b[0m\u001b[31mA\u001b[0m\u001b[31mG\u001b[0m\u001b[31mC\u001b[0m\u001b[31mA\u001b[0m\u001b[31mA\u001b[0m\u001b[31mT\u001b[0m\u001b[31mA\u001b[0m\u001b[36mG\u001b[0m\u001b[36mC\u001b[0m\u001b[36mG\u001b[0m\u001b[36mG\u001b[0m\u001b[36mC\u001b[0m\u001b[36mC\u001b[0m\u001b[36mA\u001b[0m\u001b[36mC\u001b[0m\u001b[36mA\u001b[0m\u001b[36mG\u001b[0m\u001b[36mG\u001b[0m\u001b[36mA\u001b[0m\u001b[36mC\u001b[0m\u001b[36mC\u001b[0m\u001b[36mC\u001b[0m\u001b[36mG\u001b[0m\u001b[36mC\u001b[0m\u001b[36mC\u001b[0m\u001b[36mT\u001b[0m\u001b[36mG\u001b[0m\u001b[36mG\u001b[0m\u001b[36mC\u001b[0m\u001b[36mG\u001b[0m\u001b[36mA\u001b[0m\u001b[36mC\u001b[0m\u001b[36mG\u001b[0m\u001b[36mC\u001b[0m\u001b[36mA\u001b[0m\u001b[36mT\u001b[0m\u001b[36mG\u001b[0m\u001b[36mG\u001b[0m\u001b[36mA\u001b[0m\u001b[36mC\u001b[0m\u001b[36mT\u001b[0m\u001b[36mG\u001b[0m\u001b[36mG\u001b[0m\u001b[36mA\u001b[0m\u001b[36mT\u001b[0m\u001b[36mC\u001b[0m\u001b[36mC\u001b[0m\u001b[36mG\u001b[0m\u001b[36mG\u001b[0m\u001b[36mA\u001b[0m\u001b[36mG\u001b[0m\u001b[36mG\u001b[0m\u001b[36mT\u001b[0m\u001b[36mC\u001b[0m\u001b[36mT\u001b[0m\u001b[36mG\u001b[0m\u001b[36mG\u001b[0m\u001b[36mC\u001b[0m\u001b[36mC\u001b[0m\u001b[31mA\u001b[0m\u001b[31mA\u001b[0m\u001b[31mC\u001b[0m\u001b[31mA\u001b[0m\u001b[31mG\u001b[0m\u001b[31mT\u001b[0m\u001b[31mT\u001b[0m\u001b[31mG\u001b[0m\u001b[31mA\u001b[0m\u001b[31mT\u001b[0m\u001b[31mT\u001b[0m\u001b[31mT\u001b[0m\u001b[31mC\u001b[0m\u001b[31mA\u001b[0m\u001b[31mT\u001b[0m\u001b[31mG\u001b[0m\u001b[31mG\u001b[0m\u001b[31mG\u001b[0m\u001b[31mT\u001b[0m\u001b[31mT\u001b[0m\u001b[31mA\u001b[0m\u001b[31mC\u001b[0m\u001b[31mA\u001b[0m\u001b[36mG\u001b[0m\u001b[36mC\u001b[0m\u001b[36mC\u001b[0m\u001b[36mC\u001b[0m\u001b[36mC\u001b[0m\u001b[36mG\u001b[0m\u001b[36mG\u001b[0m\u001b[36mT\u001b[0m\u001b[36mG\u001b[0m\u001b[36mT\u001b[0m\u001b[36mA\u001b[0m\u001b[36mG\u001b[0m\u001b[36mA\u001b[0m\u001b[36mT\u001b[0m\u001b[36mC\u001b[0m\u001b[36mC\u001b[0m\u001b[36mC\u001b[0m\u001b[36mC\u001b[0m\u001b[36mT\u001b[0m\u001b[36mC\u001b[0m\u001b[36mA\u001b[0m\u001b[36mT\u001b[0m\u001b[36mG\u001b[0m\u001b[36mG\u001b[0m\u001b[36mT\u001b[0m\u001b[36mC\u001b[0m\u001b[36mT\u001b[0m\u001b[36mC\u001b[0m\u001b[36mC\u001b[0m\u001b[36mC\u001b[0m\u001b[36mG\u001b[0m\u001b[36mA\u001b[0m\u001b[36mA\u001b[0m\u001b[36mC\u001b[0m\u001b[36mC\u001b[0m\u001b[36mG\u001b[0m\u001b[31mA\u001b[0m\u001b[31mT\u001b[0m\u001b[31mT\u001b[0m\u001b[31mA\u001b[0m\u001b[31mG\u001b[0m\u001b[31mT\u001b[0m\u001b[31mT\u001b[0m\u001b[31mT\u001b[0m\u001b[31mG\u001b[0m\u001b[31mA\u001b[0m\u001b[31mA\u001b[0m\u001b[31mA\u001b[0m\u001b[31mA\u001b[0m\u001b[31mC\u001b[0m\u001b[31mT\u001b[0m\u001b[31mG\u001b[0m\u001b[31mT\u001b[0m\u001b[31mA\u001b[0m\u001b[31mT\u001b[0m\u001b[31mC\u001b[0m\u001b[31mT\u001b[0m\u001b[36mC\u001b[0m\u001b[36mC\u001b[0m\u001b[36mT\u001b[0m\u001b[36mG\u001b[0m\u001b[36mG\u001b[0m\u001b[36mC\u001b[0m\u001b[36mC\u001b[0m\u001b[36mG\u001b[0m\u001b[36mC\u001b[0m\u001b[36mC\u001b[0m\u001b[31mT\u001b[0m\u001b[31mA\u001b[0m\u001b[31mA\u001b[0m\u001b[31mC\u001b[0m\u001b[31mA\u001b[0m\u001b[31mG\u001b[0m\u001b[31mG\u001b[0m\u001b[31mT\u001b[0m\u001b[31mA\u001b[0m\u001b[31mT\u001b[0m\u001b[31mA\u001b[0m\u001b[31mA\u001b[0m\u001b[31mA\u001b[0m\u001b[31mG\u001b[0m\u001b[31mA\u001b[0m\u001b[36mG\u001b[0m\u001b[36mC\u001b[0m\u001b[36mC\u001b[0m\u001b[36mG\u001b[0m\u001b[36mG\u001b[0m\u001b[36mC\u001b[0m\u001b[36mT\u001b[0m\u001b[36mC\u001b[0m\u001b[36mA\u001b[0m\u001b[36mC\u001b[0m\u001b[36mA\u001b[0m\u001b[36mC\u001b[0m\u001b[36mT\u001b[0m\u001b[36mG\u001b[0m\u001b[36mG\u001b[0m\u001b[36mG\u001b[0m\u001b[36mG\u001b[0m\u001b[36mT\u001b[0m\u001b[36mG\u001b[0m\u001b[36mA\u001b[0m\u001b[36mG\u001b[0m\u001b[36mG\u001b[0m\u001b[36mG\u001b[0m\u001b[36mG\u001b[0m\u001b[36mG\u001b[0m\u001b[36mC\u001b[0m\u001b[36mG\u001b[0m\u001b[36mC\u001b[0m\u001b[36mG\u001b[0m\u001b[36mT\u001b[0m\u001b[36mG\u001b[0m\u001b[36mG\u001b[0m\u001b[36mC\u001b[0m\u001b[36mC\u001b[0m\u001b[36mC\u001b[0m\u001b[36mC\u001b[0m\u001b[36mC\u001b[0m\u001b[36mT\u001b[0m\u001b[36mT\u001b[0m\n"
     ]
    }
   ],
   "source": [
    "print(salida)"
   ]
  }
 ],
 "metadata": {
  "kernelspec": {
   "display_name": "Python 3",
   "language": "python",
   "name": "python3"
  },
  "language_info": {
   "codemirror_mode": {
    "name": "ipython",
    "version": 3
   },
   "file_extension": ".py",
   "mimetype": "text/x-python",
   "name": "python",
   "nbconvert_exporter": "python",
   "pygments_lexer": "ipython3",
   "version": "3.11.2"
  },
  "orig_nbformat": 4
 },
 "nbformat": 4,
 "nbformat_minor": 2
}
