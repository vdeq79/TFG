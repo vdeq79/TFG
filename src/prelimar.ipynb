{
  "cells": [
    {
      "cell_type": "code",
      "execution_count": 3,
      "metadata": {
        "trusted": true
      },
      "outputs": [],
      "source": [
        "import numpy as np"
      ]
    },
    {
      "cell_type": "code",
      "execution_count": 47,
      "metadata": {
        "trusted": true
      },
      "outputs": [],
      "source": [
        "class HMM:\n",
        "    def __init__(self, stateSet, observationSet, transMatrix, obsMatrix, initDist ):\n",
        "        \n",
        "        self.stateSet = stateSet\n",
        "        self.observationSet = observationSet\n",
        "        \n",
        "        self.nStates = len(stateSet)\n",
        "        self.nObs = len(observationSet)    \n",
        "        \n",
        "        self.transMatrix = np.array(transMatrix)\n",
        "        self.obsMatrix = np.array(obsMatrix)\n",
        "        self.initDist = np.array(initDist)\n",
        "        \n",
        "        if(self.transMatrix.shape != (self.nStates, self.nStates)):\n",
        "            raise ValueError(\"La matriz de transición debe ser cuadrada de orden número de estados\")\n",
        "            \n",
        "        if(self.obsMatrix.shape != (self.nStates, self.nObs)):\n",
        "            raise ValueError(\"La matriz de emisión debe ser de orden número de estados por número de observaciones\")\n",
        "            \n",
        "        if(len(self.initDist) != self.nStates):\n",
        "            raise ValueError(\"La distribución inicial debe ser un vector de dimensión el número de estados\")\n",
        "\n",
        "        checkStochastic = lambda M: all(np.sum(row)==1.0 for row in M)\n",
        "        \n",
        "        if(not checkStochastic(self.transMatrix) or not checkStochastic(self.obsMatrix) or not np.sum(self.initDist)==1.0):\n",
        "            raise ValueError(\"Las filas deben sumar 1\")\n",
        "        \n",
        "    # Parameters:\n",
        "    # obsIndSeq: secuencia de observaciones indexado    \n",
        "    def computeAlpha(self, obsIndSeq):\n",
        "        \n",
        "        #Calcular α_0(i)\n",
        "        Alpha=[ [self.initDist[i]*self.nObs[i][obsIndSeq[0]] for i in range(self.nStates) ] ]\n",
        "        C = [ np.sum(Alpha[0]) ]\n",
        "        \n",
        "        \n",
        "    def viterbi(self, obsIndSeq):\n",
        "        #Calcular delta_0(i)    \n",
        "        Delta_ant = np.around([ np.log10( self.obsMatrix[i,obsIndSeq[0]] *self.initDist[i] ) for i in range(self.nStates) ], 4)\n",
        "\n",
        "        '''\n",
        "        print(Delta_ant)\n",
        "        \n",
        "        [Delta_ant[j] + np.log10(self.transMatrix[j,i]) for j in range(self.nStates) ]\n",
        "\n",
        "\n",
        "        np.max(np.add( Delta_ant, np.log10(self.transMatrix[:,i])  ))+np.log10(self.obsMatrix[i,obsIndSeq[t]])\n",
        "\n",
        "        a = np.array( [np.max(  )] for i in range(self.nStates)  )\n",
        "        b = np.array( [self.initDist[0,i] for i in range(self.nStates)]  )\n",
        "\n",
        "    \n",
        "        Delta_ant =  np.around(np.log10( np.multiply( np.array( [self.obsMatrix[i,obsIndSeq[0]] for i in range(self.nStates)]), np.array( [self.initDist[i] for i in range(self.nStates)]  ) )  ) , 4)\n",
        "\n",
        "        print(Delta_ant)\n",
        "        Chi = []\n",
        "        Delta = np.empty(self.nStates)\n",
        "        subChi = np.empty(self.nStates)\n",
        "\n",
        "        Delta_ = [Delta_ant]\n",
        "\n",
        "        for t in range(1, len(obsIndSeq)):\n",
        "            for i in range(self.nStates):\n",
        "                Delta[i] = np.max(np.around(np.add( Delta_ant, np.log10(self.transMatrix[:,i])  ), 4)) #+np.log10(self.obsMatrix[i,obsIndSeq[t]])\n",
        "                subChi[i] = np.argmax(np.add( Delta_ant, np.log10(self.transMatrix[:,i])  ))\n",
        "\n",
        "            Delta = np.around(np.add(Delta, np.log10(self.obsMatrix[:,obsIndSeq[t]])), 4)\n",
        "            Delta_.append(Delta)\n",
        "            Delta_ant = Delta\n",
        "            Chi.append(subChi)\n",
        "        '''\n",
        "        Delta_ = [Delta_ant]\n",
        "        Chi = []\n",
        "        for t in range(1, len(obsIndSeq)):\n",
        "            Delta = np.around([ np.max( np.around([Delta_ant[j] + np.log10(self.transMatrix[j,i]) for j in range(self.nStates) ] ,4) ) + np.log10(self.obsMatrix[i,obsIndSeq[t]]) for i in range(self.nStates) ],4)\n",
        "            Chi.append( [np.argmax(np.around([Delta_ant[j] + np.log10(self.transMatrix[j,i]) for j in range(self.nStates) ],4)) for i in range(self.nStates) ])\n",
        "            Delta_ant = Delta\n",
        "            Delta_.append(Delta)\n",
        "            \n",
        "        path = [None] * len(obsIndSeq)\n",
        "        path[len(obsIndSeq)-1] = np.argmax(Delta)\n",
        "        \n",
        "        for t in range(len(obsIndSeq)-2, -1 , -1):\n",
        "            path[t]=Chi[t][int(path[t+1])]\n",
        "\n",
        "        return (np.max(Delta), [self.stateSet[int(i)] for i in path], Delta_)"
      ]
    },
    {
      "cell_type": "code",
      "execution_count": 48,
      "metadata": {},
      "outputs": [],
      "source": [
        "mode = HMM([\"-\", \"+\"], [0,1], np.array([[0.9,0.1],[0.1,0.9]]), np.array([[0.4,0.6],[0.75,0.25]]), np.array([0.5,0.5]))"
      ]
    },
    {
      "cell_type": "code",
      "execution_count": 49,
      "metadata": {},
      "outputs": [
        {
          "name": "stdout",
          "output_type": "stream",
          "text": [
            "--- 0.029651165008544922 seconds ---\n"
          ]
        }
      ],
      "source": [
        "import time\n",
        "start_time = time.time()\n",
        "a=mode.viterbi([1, 0, 1, 0, 0, 0, 1, 0, 0, 0, 0, 0, 0, 1, 1, 0, 0, 0, 1, 0, 0, 0,\n",
        "       0, 0, 0, 0, 0, 1, 0, 0, 0, 0, 1, 1, 0, 0, 0, 0, 0, 0, 0, 0, 0, 1,\n",
        "       0, 1, 0, 1, 1, 1, 1, 0, 1, 0, 0, 0, 0, 1, 1, 1, 1, 1, 0, 0, 1, 1,\n",
        "       0, 0, 0, 0, 0, 0, 0, 0, 0, 1, 1, 0, 1, 0, 1, 0, 0, 1, 0, 0, 0, 1,\n",
        "       1, 1, 0, 0, 0, 1, 0, 1, 0, 0, 1, 0, 1, 0, 1, 1, 0, 0, 0, 1, 0, 1,\n",
        "       0, 0, 0, 1, 1, 0, 0, 0, 1, 1, 1, 0, 1, 0, 1, 1, 0, 0, 0, 1, 1, 0,\n",
        "       1, 0, 0, 0, 0, 0, 0, 1, 0, 0, 0, 1, 0, 1, 0, 0, 0, 0, 0, 0, 0, 0,\n",
        "       0, 0, 0, 0, 0, 0, 0, 0, 1, 0, 0, 0, 1, 1, 0, 0, 1, 1, 0, 0, 0, 0,\n",
        "       0, 0, 0, 1, 1, 1, 0, 0, 0, 1, 0, 0, 1, 0, 0, 0, 0, 0, 1, 0, 0, 0,\n",
        "       0, 0, 1, 0, 0, 0, 0, 1, 1, 0, 0, 0, 0, 1, 1, 1, 1, 1, 0, 0, 0, 0,\n",
        "       1, 0, 1, 1, 0, 1, 1, 0, 0, 0, 0, 0, 1, 1, 0, 0, 0, 0, 1, 0, 1, 1,\n",
        "       1, 0, 1, 1, 1, 1, 0, 0, 0, 1, 1, 0, 0, 1, 1, 0, 0, 0, 1, 1, 0, 0,\n",
        "       1, 1, 1, 1, 0, 0, 0, 0, 0, 0, 1, 0, 1, 0, 0, 1, 0, 0, 0, 0, 0, 0,\n",
        "       1, 0, 0, 0, 0, 1, 0, 0, 0, 1, 1, 0, 0, 1, 0, 1, 0, 0, 1, 1, 0, 0,\n",
        "       0, 0, 1, 0, 0, 1, 0, 1, 0, 0, 0, 0, 1, 1, 0, 1, 0, 1, 1, 0, 1, 1,\n",
        "       1, 1, 0, 1, 1, 0, 0, 0, 1, 1, 1, 0, 1, 0, 0, 0, 0, 0, 0, 0, 1, 0,\n",
        "       1, 1, 0, 1, 1, 0, 0, 0, 0, 1, 0, 1, 1, 0, 0, 1, 0, 1, 0, 0, 0, 0,\n",
        "       1, 1, 0, 0, 0, 1, 1, 1, 1, 0, 1, 1, 1, 0, 1, 1, 1, 1, 0, 1, 0, 1,\n",
        "       1, 1, 0, 1, 0, 0, 1, 0, 0, 0, 0, 0, 0, 0, 1, 1, 1, 0, 1, 0, 0, 1,\n",
        "       1, 1, 1, 1, 1, 0, 1, 0, 0, 0, 0, 0, 0, 1, 0, 1, 0, 1, 0, 1, 0, 0,\n",
        "       0, 0, 1, 0, 1, 0, 0, 0, 0, 0, 0, 0, 0, 0, 1, 0, 0, 0, 0, 0, 0, 0,\n",
        "       1, 1])\n",
        "print(\"--- %s seconds ---\" % (time.time() - start_time))"
      ]
    },
    {
      "cell_type": "code",
      "execution_count": 50,
      "metadata": {},
      "outputs": [
        {
          "data": {
            "text/plain": [
              "array([-1.07379623, -1.64783874])"
            ]
          },
          "execution_count": 50,
          "metadata": {},
          "output_type": "execute_result"
        }
      ],
      "source": [
        "[-0.9031+np.log10(0.9),-0.5229+np.log10(0.1)]+np.log10(0.75)"
      ]
    },
    {
      "cell_type": "code",
      "execution_count": 51,
      "metadata": {},
      "outputs": [
        {
          "name": "stdout",
          "output_type": "stream",
          "text": [
            "['+', '+', '+', '+', '+', '+', '+', '+', '+', '+', '+', '+', '+', '+', '+', '+', '+', '+', '+', '+', '+', '+', '+', '+', '+', '+', '+', '+', '+', '+', '+', '+', '+', '+', '+', '+', '+', '+', '+', '+', '+', '+', '+', '-', '-', '-', '-', '-', '-', '-', '-', '-', '-', '-', '-', '-', '-', '-', '-', '-', '-', '-', '-', '-', '-', '-', '+', '+', '+', '+', '+', '+', '+', '+', '+', '+', '+', '+', '+', '+', '+', '+', '+', '+', '+', '+', '+', '+', '+', '+', '+', '+', '+', '+', '+', '+', '+', '+', '+', '+', '+', '+', '+', '+', '+', '+', '+', '+', '+', '+', '+', '+', '+', '+', '+', '+', '+', '+', '+', '+', '+', '+', '+', '+', '+', '+', '+', '+', '+', '+', '+', '+', '+', '+', '+', '+', '+', '+', '+', '+', '+', '+', '+', '+', '+', '+', '+', '+', '+', '+', '+', '+', '+', '+', '+', '+', '+', '+', '+', '+', '+', '+', '+', '+', '+', '+', '+', '+', '+', '+', '+', '+', '+', '+', '+', '+', '+', '+', '+', '+', '+', '+', '+', '+', '+', '+', '+', '+', '+', '+', '+', '+', '+', '+', '+', '+', '+', '+', '+', '+', '+', '+', '+', '+', '+', '+', '+', '+', '+', '+', '+', '-', '-', '-', '-', '-', '-', '-', '-', '-', '-', '-', '-', '-', '-', '-', '-', '-', '-', '-', '-', '-', '-', '-', '-', '-', '-', '-', '-', '-', '-', '-', '-', '-', '-', '-', '-', '-', '-', '-', '-', '-', '-', '-', '-', '-', '-', '-', '-', '-', '-', '-', '-', '-', '-', '-', '-', '-', '+', '+', '+', '+', '+', '+', '+', '+', '+', '+', '+', '+', '+', '+', '+', '+', '+', '+', '+', '+', '+', '+', '+', '+', '+', '+', '+', '+', '+', '+', '+', '+', '+', '+', '+', '+', '+', '+', '+', '+', '+', '+', '+', '+', '+', '+', '+', '+', '+', '+', '+', '+', '-', '-', '-', '-', '-', '-', '-', '-', '-', '-', '-', '-', '-', '-', '-', '-', '-', '-', '-', '-', '-', '-', '-', '+', '+', '+', '+', '+', '+', '+', '+', '+', '+', '+', '+', '+', '+', '+', '+', '+', '+', '+', '+', '+', '+', '+', '+', '+', '+', '+', '+', '+', '+', '+', '+', '+', '+', '+', '+', '-', '-', '-', '-', '-', '-', '-', '-', '-', '-', '-', '-', '-', '-', '-', '-', '-', '-', '-', '-', '-', '+', '+', '+', '+', '+', '+', '+', '+', '+', '+', '-', '-', '-', '-', '-', '-', '-', '-', '-', '-', '-', '-', '-', '-', '-', '+', '+', '+', '+', '+', '+', '+', '+', '+', '+', '+', '+', '+', '+', '+', '+', '+', '+', '+', '+', '+', '+', '+', '+', '+', '+', '+', '+', '+', '+', '+', '+', '+', '+', '+', '+', '+', '+', '+']\n",
            "-154.2752\n"
          ]
        }
      ],
      "source": [
        "print(a[1])\n",
        "print(a[0])"
      ]
    },
    {
      "cell_type": "code",
      "execution_count": 52,
      "metadata": {},
      "outputs": [
        {
          "name": "stdout",
          "output_type": "stream",
          "text": [
            "[array([-0.5229, -0.9031]), array([-0.9666, -1.0738]), array([-1.2342, -1.7217]), array([-1.6779, -1.8924]), array([-2.1216, -2.0631]), array([-2.5653, -2.2338]), array([-2.8329, -2.8817]), array([-3.2766, -3.0524]), array([-3.7203, -3.2231]), array([-4.164 , -3.3938]), array([-4.6077, -3.5645]), array([-4.9624, -3.7352]), array([-5.1331, -3.9059]), array([-5.1277, -4.5538]), array([-5.3953, -5.2017]), array([-5.839 , -5.3724]), array([-6.2827, -5.5431]), array([-6.7264, -5.7138]), array([-6.9356, -6.3617]), array([-7.3793, -6.5324]), array([-7.823 , -6.7031]), array([-8.101 , -6.8738]), array([-8.2717, -7.0445]), array([-8.4424, -7.2152]), array([-8.6131, -7.3859]), array([-8.7838, -7.5566]), array([-8.9545, -7.7273]), array([-8.9491, -8.3752]), array([-9.3928, -8.5459]), array([-9.8365, -8.7166]), array([-10.1145,  -8.8873]), array([-10.2852,  -9.058 ]), array([-10.2798,  -9.7059]), array([-10.5474, -10.3538]), array([-10.9911, -10.5245]), array([-11.4348, -10.6952]), array([-11.8785, -10.8659]), array([-12.2638, -11.0366]), array([-12.4345, -11.2073]), array([-12.6052, -11.378 ]), array([-12.7759, -11.5487]), array([-12.9466, -11.7194]), array([-13.1173, -11.8901]), array([-13.1119, -12.538 ]), array([-13.5556, -12.7087]), array([-13.8232, -13.3566]), array([-14.2669, -13.5273]), array([-14.5345, -14.1752]), array([-14.8021, -14.8231]), array([-15.0697, -15.471 ]), array([-15.3373, -16.1189]), array([-15.781 , -16.2896]), array([-16.0486, -16.9375]), array([-16.4923, -17.1082]), array([-16.936 , -17.2789]), array([-17.3797, -17.4496]), array([-17.8234, -17.6203]), array([-18.091 , -18.2682]), array([-18.3586, -18.9161]), array([-18.6262, -19.564 ]), array([-18.8938, -20.2119]), array([-19.1614, -20.4959]), array([-19.6051, -20.2863]), array([-20.0488, -20.457 ]), array([-20.3164, -21.1049]), array([-20.584 , -21.7528]), array([-21.0277, -21.7089]), array([-21.4714, -21.8796]), array([-21.9151, -22.0503]), array([-22.3588, -22.221 ]), array([-22.8025, -22.3917]), array([-23.2462, -22.5624]), array([-23.6899, -22.7331]), array([-24.131 , -22.9038]), array([-24.3017, -23.0745]), array([-24.2963, -23.7224]), array([-24.5639, -24.3703]), array([-25.0076, -24.541 ]), array([-25.2752, -25.1889]), array([-25.7189, -25.3596]), array([-25.9865, -26.0075]), array([-26.4302, -26.1782]), array([-26.8739, -26.3489]), array([-27.1415, -26.9968]), array([-27.5852, -27.1675]), array([-28.0289, -27.3382]), array([-28.4726, -27.5089]), array([-28.7307, -28.1568]), array([-28.9983, -28.8047]), array([-29.2659, -29.4526]), array([-29.7096, -29.6233]), array([-30.1533, -29.794 ]), array([-30.597 , -29.9647]), array([-30.8646, -30.6126]), array([-31.3083, -30.7833]), array([-31.5759, -31.4312]), array([-32.0196, -31.6019]), array([-32.4633, -31.7726]), array([-32.7309, -32.4205]), array([-33.1746, -32.5912]), array([-33.4422, -33.2391]), array([-33.8859, -33.4098]), array([-34.1535, -34.0577]), array([-34.4211, -34.7056]), array([-34.8648, -34.8763]), array([-35.3085, -35.047 ]), array([-35.7522, -35.2177]), array([-36.0198, -35.8656]), array([-36.4635, -36.0363]), array([-36.7311, -36.6842]), array([-37.1748, -36.8549]), array([-37.6185, -37.0256]), array([-38.0622, -37.1963]), array([-38.3298, -37.8442]), array([-38.5974, -38.4921]), array([-39.0411, -38.6628]), array([-39.4848, -38.8335]), array([-39.9285, -39.0042]), array([-40.1961, -39.6521]), array([-40.4637, -40.3   ]), array([-40.7313, -40.9479]), array([-41.175 , -41.1186]), array([-41.4426, -41.7665]), array([-41.8863, -41.9372]), array([-42.1539, -42.5851]), array([-42.4215, -43.233 ]), array([-42.8652, -43.4037]), array([-43.3089, -43.5744]), array([-43.7526, -43.7451]), array([-44.0202, -44.393 ]), array([-44.2878, -45.0409]), array([-44.7315, -45.2116]), array([-44.9991, -45.8595]), array([-45.4428, -46.0302]), array([-45.8865, -46.2009]), array([-46.3302, -46.3716]), array([-46.7739, -46.5423]), array([-47.2176, -46.713 ]), array([-47.6613, -46.8837]), array([-47.9289, -47.5316]), array([-48.3726, -47.7023]), array([-48.8163, -47.873 ]), array([-49.26  , -48.0437]), array([-49.2655, -48.6916]), array([-49.7092, -48.8623]), array([-49.9768, -49.5102]), array([-50.4205, -49.6809]), array([-50.8642, -49.8516]), array([-51.2495, -50.0223]), array([-51.4202, -50.193 ]), array([-51.5909, -50.3637]), array([-51.7616, -50.5344]), array([-51.9323, -50.7051]), array([-52.103 , -50.8758]), array([-52.2737, -51.0465]), array([-52.4444, -51.2172]), array([-52.6151, -51.3879]), array([-52.7858, -51.5586]), array([-52.9565, -51.7293]), array([-53.1272, -51.9   ]), array([-53.2979, -52.0707]), array([-53.4686, -52.2414]), array([-53.4632, -52.8893]), array([-53.9069, -53.06  ]), array([-54.3506, -53.2307]), array([-54.6286, -53.4014]), array([-54.6232, -54.0493]), array([-54.8908, -54.6972]), array([-55.3345, -54.8679]), array([-55.7782, -55.0386]), array([-56.0458, -55.6865]), array([-56.3134, -56.3344]), array([-56.7571, -56.5051]), array([-57.2008, -56.6758]), array([-57.6445, -56.8465]), array([-58.0882, -57.0172]), array([-58.4151, -57.1879]), array([-58.5858, -57.3586]), array([-58.7565, -57.5293]), array([-58.7511, -58.1772]), array([-59.0187, -58.8251]), array([-59.2863, -59.473 ]), array([-59.73  , -59.6437]), array([-60.1737, -59.8144]), array([-60.6174, -59.9851]), array([-60.885, -60.633]), array([-61.3287, -60.8037]), array([-61.7724, -60.9744]), array([-62.04  , -61.6223]), array([-62.4837, -61.793 ]), array([-62.9274, -61.9637]), array([-63.3616, -62.1344]), array([-63.5323, -62.3051]), array([-63.703 , -62.4758]), array([-63.6976, -63.1237]), array([-64.1413, -63.2944]), array([-64.585 , -63.4651]), array([-64.863 , -63.6358]), array([-65.0337, -63.8065]), array([-65.2044, -63.9772]), array([-65.199 , -64.6251]), array([-65.6427, -64.7958]), array([-66.0864, -64.9665]), array([-66.3644, -65.1372]), array([-66.5351, -65.3079]), array([-66.5297, -65.9558]), array([-66.7973, -66.6037]), array([-67.241 , -66.7744]), array([-67.6847, -66.9451]), array([-68.1284, -67.1158]), array([-68.5137, -67.2865]), array([-68.5083, -67.9344]), array([-68.7759, -68.5823]), array([-69.0435, -69.2302]), array([-69.3111, -69.8781]), array([-69.5787, -70.526 ]), array([-70.0224, -70.6967]), array([-70.4661, -70.8674]), array([-70.9098, -71.0381]), array([-71.3535, -71.2088]), array([-71.6211, -71.8567]), array([-72.0648, -72.0274]), array([-72.3324, -72.6753]), array([-72.6   , -73.3232]), array([-73.0437, -73.4939]), array([-73.3113, -74.1418]), array([-73.5789, -74.7897]), array([-74.0226, -74.7038]), array([-74.4663, -74.8745]), array([-74.91  , -75.0452]), array([-75.3537, -75.2159]), array([-75.7974, -75.3866]), array([-76.065 , -76.0345]), array([-76.3326, -76.6824]), array([-76.7763, -76.8531]), array([-77.22  , -77.0238]), array([-77.6637, -77.1945]), array([-78.1074, -77.3652]), array([-78.375 , -78.0131]), array([-78.8187, -78.1838]), array([-79.0863, -78.8317]), array([-79.3539, -79.4796]), array([-79.6215, -80.1275]), array([-80.0652, -80.2982]), array([-80.3328, -80.9461]), array([-80.6004, -81.594 ]), array([-80.868 , -82.2025]), array([-81.1356, -82.4701]), array([-81.5793, -82.2605]), array([-82.023 , -82.4312]), array([-82.4667, -82.6019]), array([-82.7343, -83.2498]), array([-83.0019, -83.8977]), array([-83.4456, -84.0684]), array([-83.8893, -84.2391]), array([-84.1569, -84.887 ]), array([-84.4245, -85.5349]), array([-84.8682, -85.5494]), array([-85.3119, -85.7201]), array([-85.7556, -85.8908]), array([-86.0232, -86.5387]), array([-86.2908, -87.1866]), array([-86.7345, -87.3573]), array([-87.1782, -87.528 ]), array([-87.4458, -88.1759]), array([-87.7134, -88.8238]), array([-87.981 , -89.3155]), array([-88.2486, -89.5831]), array([-88.6923, -89.3735]), array([-89.136 , -89.5442]), array([-89.5797, -89.7149]), array([-90.0234, -89.8856]), array([-90.4671, -90.0563]), array([-90.9108, -90.227 ]), array([-91.1784, -90.8749]), array([-91.6221, -91.0456]), array([-91.8897, -91.6935]), array([-92.3334, -91.8642]), array([-92.7771, -92.0349]), array([-93.0447, -92.6828]), array([-93.4884, -92.8535]), array([-93.9321, -93.0242]), array([-94.3758, -93.1949]), array([-94.5928, -93.3656]), array([-94.7635, -93.5363]), array([-94.9342, -93.707 ]), array([-94.9288, -94.3549]), array([-95.3725, -94.5256]), array([-95.8162, -94.6963]), array([-96.0942, -94.867 ]), array([-96.2649, -95.0377]), array([-96.2595, -95.6856]), array([-96.7032, -95.8563]), array([-97.1469, -96.027 ]), array([-97.4249, -96.1977]), array([-97.4195, -96.8456]), array([-97.6871, -97.4935]), array([-98.1308, -97.6642]), array([-98.5745, -97.8349]), array([-98.8421, -98.4828]), array([-99.2858, -98.6535]), array([-99.5534, -99.3014]), array([-99.9971, -99.4721]), array([-100.4408,  -99.6428]), array([-100.7084, -100.2907]), array([-100.976 , -100.9386]), array([-101.4197, -101.1093]), array([-101.8634, -101.28  ]), array([-102.3071, -101.4507]), array([-102.7508, -101.6214]), array([-102.8432, -102.2693]), array([-103.2869, -102.44  ]), array([-103.7306, -102.6107]), array([-103.8325, -103.2586]), array([-104.2762, -103.4293]), array([-104.5438, -104.0772]), array([-104.9875, -104.2479]), array([-105.4312, -104.4186]), array([-105.8165, -104.5893]), array([-105.9872, -104.76  ]), array([-105.9818, -105.4079]), array([-106.2494, -106.0558]), array([-106.6931, -106.2265]), array([-106.9607, -106.8744]), array([-107.4044, -107.0451]), array([-107.672, -107.693]), array([-107.9396, -108.3409]), array([-108.3833, -108.5116]), array([-108.6509, -109.1595]), array([-108.9185, -109.8074]), array([-109.1861, -110.4553]), array([-109.4537, -110.7882]), array([-109.8974, -110.5786]), array([-110.165 , -111.2265]), array([-110.4326, -111.7671]), array([-110.8763, -111.5575]), array([-111.32  , -111.7282]), array([-111.7637, -111.8989]), array([-112.0313, -112.5468]), array([-112.2989, -113.1947]), array([-112.5665, -113.8426]), array([-113.0102, -113.6914]), array([-113.2778, -114.3393]), array([-113.7215, -114.4027]), array([-114.1652, -114.5734]), array([-114.6089, -114.7441]), array([-115.0526, -114.9148]), array([-115.4963, -115.0855]), array([-115.94  , -115.2562]), array([-116.3837, -115.4269]), array([-116.6487, -116.0748]), array([-117.0924, -116.2455]), array([-117.36  , -116.8934]), array([-117.6276, -117.5413]), array([-118.0713, -117.712 ]), array([-118.3389, -118.3599]), array([-118.6065, -119.0078]), array([-119.0502, -119.1785]), array([-119.4939, -119.3492]), array([-119.9376, -119.5199]), array([-120.3813, -119.6906]), array([-120.6489, -120.3385]), array([-121.0926, -120.5092]), array([-121.3602, -121.1571]), array([-121.6278, -121.805 ]), array([-122.0715, -121.9757]), array([-122.5152, -122.1464]), array([-122.7828, -122.7943]), array([-123.2265, -122.965 ]), array([-123.4941, -123.6129]), array([-123.9378, -123.7836]), array([-124.3815, -123.9543]), array([-124.8252, -124.125 ]), array([-125.2689, -124.2957]), array([-125.5175, -124.9436]), array([-125.7851, -125.5915]), array([-126.2288, -125.7622]), array([-126.6725, -125.9329]), array([-127.1162, -126.1036]), array([-127.3254, -126.7515]), array([-127.593 , -127.3994]), array([-127.8606, -128.0473]), array([-128.1282, -128.6952]), array([-128.5719, -128.8659]), array([-128.8395, -129.5138]), array([-129.1071, -130.1617]), array([-129.3747, -130.7092]), array([-129.8184, -130.4996]), array([-130.086 , -131.1475]), array([-130.3536, -131.6881]), array([-130.6212, -131.9557]), array([-130.8888, -132.2233]), array([-131.3325, -132.0137]), array([-131.6001, -132.6616]), array([-132.0438, -132.725 ]), array([-132.3114, -133.3729]), array([-132.579 , -133.9135]), array([-132.8466, -134.1811]), array([-133.2903, -133.9715]), array([-133.5579, -134.6194]), array([-134.0016, -134.6828]), array([-134.4453, -134.8535]), array([-134.7129, -135.5014]), array([-135.1566, -135.6721]), array([-135.6003, -135.8428]), array([-136.044 , -136.0135]), array([-136.4877, -136.1842]), array([-136.9314, -136.3549]), array([-137.3751, -136.5256]), array([-137.8188, -136.6963]), array([-137.9181, -137.3442]), array([-138.1857, -137.9921]), array([-138.4533, -138.64  ]), array([-138.897 , -138.8107]), array([-139.1646, -139.4586]), array([-139.6083, -139.6293]), array([-140.052, -139.8  ]), array([-140.3196, -140.4479]), array([-140.5872, -141.0958]), array([-140.8548, -141.7437]), array([-141.1224, -142.3916]), array([-141.39  , -142.7245]), array([-141.6576, -142.9921]), array([-142.1013, -142.7825]), array([-142.3689, -143.4304]), array([-142.8126, -143.4938]), array([-143.2563, -143.6645]), array([-143.7   , -143.8352]), array([-144.1437, -144.0059]), array([-144.5874, -144.1766]), array([-145.0311, -144.3473]), array([-145.2987, -144.9952]), array([-145.7424, -145.1659]), array([-146.01  , -145.8138]), array([-146.4537, -145.9845]), array([-146.7213, -146.6324]), array([-147.165 , -146.8031]), array([-147.4326, -147.451 ]), array([-147.8763, -147.6217]), array([-148.32  , -147.7924]), array([-148.7637, -147.9631]), array([-149.2074, -148.1338]), array([-149.3556, -148.7817]), array([-149.7993, -148.9524]), array([-150.0669, -149.6003]), array([-150.5106, -149.771 ]), array([-150.9543, -149.9417]), array([-151.3396, -150.1124]), array([-151.5103, -150.2831]), array([-151.681 , -150.4538]), array([-151.8517, -150.6245]), array([-152.0224, -150.7952]), array([-152.1931, -150.9659]), array([-152.3638, -151.1366]), array([-152.3584, -151.7845]), array([-152.8021, -151.9552]), array([-153.2458, -152.1259]), array([-153.5238, -152.2966]), array([-153.6945, -152.4673]), array([-153.8652, -152.638 ]), array([-154.0359, -152.8087]), array([-154.2066, -152.9794]), array([-154.2012, -153.6273]), array([-154.4688, -154.2752])]\n"
          ]
        }
      ],
      "source": [
        "print(a[2])"
      ]
    },
    {
      "cell_type": "code",
      "execution_count": 53,
      "metadata": {},
      "outputs": [],
      "source": [
        "b=['+', '+', '+', '+', '+', '+', '+', '+', '+', '+', '+', '+', '+',\n",
        "       '+', '+', '+', '+', '+', '+', '+', '+', '+', '+', '+', '+', '+',\n",
        "       '+', '+', '+', '+', '+', '+', '+', '+', '+', '+', '+', '+', '+',\n",
        "       '+', '+', '+', '+', '-', '-', '-', '-', '-', '-', '-', '-', '-',\n",
        "       '-', '-', '-', '-', '-', '-', '-', '-', '-', '-', '-', '-', '-',\n",
        "       '-', '+', '+', '+', '+', '+', '+', '+', '+', '+', '+', '+', '+',\n",
        "       '+', '+', '+', '+', '+', '+', '+', '+', '+', '+', '+', '+', '+',\n",
        "       '+', '+', '+', '+', '+', '+', '+', '+', '+', '+', '+', '+', '+',\n",
        "       '+', '+', '+', '+', '+', '+', '+', '+', '+', '+', '+', '+', '+',\n",
        "       '+', '+', '+', '+', '+', '+', '+', '+', '+', '+', '+', '+', '+',\n",
        "       '+', '+', '+', '+', '+', '+', '+', '+', '+', '+', '+', '+', '+',\n",
        "       '+', '+', '+', '+', '+', '+', '+', '+', '+', '+', '+', '+', '+',\n",
        "       '+', '+', '+', '+', '+', '+', '+', '+', '+', '+', '+', '+', '+',\n",
        "       '+', '+', '+', '+', '+', '+', '+', '+', '+', '+', '+', '+', '+',\n",
        "       '+', '+', '+', '+', '+', '+', '+', '+', '+', '+', '+', '+', '+',\n",
        "       '+', '+', '+', '+', '+', '+', '+', '+', '+', '+', '+', '+', '+',\n",
        "       '+', '+', '+', '-', '-', '-', '-', '-', '-', '-', '-', '-', '-',\n",
        "       '-', '-', '-', '-', '-', '-', '-', '-', '-', '-', '-', '-', '-',\n",
        "       '-', '-', '-', '-', '-', '-', '-', '-', '-', '-', '-', '-', '-',\n",
        "       '-', '-', '-', '-', '-', '-', '-', '-', '-', '-', '-', '-', '-',\n",
        "       '-', '-', '-', '-', '-', '-', '-', '-', '+', '+', '+', '+', '+',\n",
        "       '+', '+', '+', '+', '+', '+', '+', '+', '+', '+', '+', '+', '+',\n",
        "       '+', '+', '+', '+', '+', '+', '+', '+', '+', '+', '+', '+', '+',\n",
        "       '+', '+', '+', '+', '+', '+', '+', '+', '+', '+', '+', '+', '+',\n",
        "       '+', '+', '+', '+', '+', '+', '+', '+', '-', '-', '-', '-', '-',\n",
        "       '-', '-', '-', '-', '-', '-', '-', '-', '-', '-', '-', '-', '-',\n",
        "       '-', '-', '-', '-', '-', '+', '+', '+', '+', '+', '+', '+', '+',\n",
        "       '+', '+', '+', '+', '+', '+', '+', '+', '+', '+', '+', '+', '+',\n",
        "       '+', '+', '+', '+', '+', '+', '+', '+', '+', '+', '+', '+', '+',\n",
        "       '+', '+', '-', '-', '-', '-', '-', '-', '-', '-', '-', '-', '-',\n",
        "       '-', '-', '-', '-', '-', '-', '-', '-', '-', '-', '+', '+', '+',\n",
        "       '+', '+', '+', '+', '+', '+', '+', '-', '-', '-', '-', '-', '-',\n",
        "       '-', '-', '-', '-', '-', '-', '-', '-', '-', '+', '+', '+', '+',\n",
        "       '+', '+', '+', '+', '+', '+', '+', '+', '+', '+', '+', '+', '+',\n",
        "       '+', '+', '+', '+', '+', '+', '+', '+', '+', '+', '+', '+', '+',\n",
        "       '+', '+', '+', '+', '+', '+', '+', '+', '+']"
      ]
    },
    {
      "cell_type": "code",
      "execution_count": 54,
      "metadata": {},
      "outputs": [
        {
          "name": "stdout",
          "output_type": "stream",
          "text": [
            "[True, True, True, True, True, True, True, True, True, True, True, True, True, True, True, True, True, True, True, True, True, True, True, True, True, True, True, True, True, True, True, True, True, True, True, True, True, True, True, True, True, True, True, True, True, True, True, True, True, True, True, True, True, True, True, True, True, True, True, True, True, True, True, True, True, True, True, True, True, True, True, True, True, True, True, True, True, True, True, True, True, True, True, True, True, True, True, True, True, True, True, True, True, True, True, True, True, True, True, True, True, True, True, True, True, True, True, True, True, True, True, True, True, True, True, True, True, True, True, True, True, True, True, True, True, True, True, True, True, True, True, True, True, True, True, True, True, True, True, True, True, True, True, True, True, True, True, True, True, True, True, True, True, True, True, True, True, True, True, True, True, True, True, True, True, True, True, True, True, True, True, True, True, True, True, True, True, True, True, True, True, True, True, True, True, True, True, True, True, True, True, True, True, True, True, True, True, True, True, True, True, True, True, True, True, True, True, True, True, True, True, True, True, True, True, True, True, True, True, True, True, True, True, True, True, True, True, True, True, True, True, True, True, True, True, True, True, True, True, True, True, True, True, True, True, True, True, True, True, True, True, True, True, True, True, True, True, True, True, True, True, True, True, True, True, True, True, True, True, True, True, True, True, True, True, True, True, True, True, True, True, True, True, True, True, True, True, True, True, True, True, True, True, True, True, True, True, True, True, True, True, True, True, True, True, True, True, True, True, True, True, True, True, True, True, True, True, True, True, True, True, True, True, True, True, True, True, True, True, True, True, True, True, True, True, True, True, True, True, True, True, True, True, True, True, True, True, True, True, True, True, True, True, True, True, True, True, True, True, True, True, True, True, True, True, True, True, True, True, True, True, True, True, True, True, True, True, True, True, True, True, True, True, True, True, True, True, True, True, True, True, True, True, True, True, True, True, True, True, True, True, True, True, True, True, True, True, True, True, True, True, True, True, True, True, True, True, True, True, True, True, True, True, True, True, True, True, True, True, True, True, True, True, True, True, True, True, True, True, True, True, True, True, True, True, True, True, True, True, True, True, True, True, True, True, True, True, True, True, True, True, True, True, True]\n"
          ]
        }
      ],
      "source": [
        "print([a[1][i]==b[i] for i in range(len(a[1]))])"
      ]
    },
    {
      "cell_type": "code",
      "execution_count": 55,
      "metadata": {},
      "outputs": [
        {
          "data": {
            "text/plain": [
              "True"
            ]
          },
          "execution_count": 55,
          "metadata": {},
          "output_type": "execute_result"
        }
      ],
      "source": [
        "a[1]==b"
      ]
    }
  ],
  "metadata": {
    "kernelspec": {
      "display_name": "Python 3",
      "language": "python",
      "name": "python3"
    },
    "language_info": {
      "codemirror_mode": {
        "name": "ipython",
        "version": 3
      },
      "file_extension": ".py",
      "mimetype": "text/x-python",
      "name": "python",
      "nbconvert_exporter": "python",
      "pygments_lexer": "ipython3",
      "version": "3.11.2"
    }
  },
  "nbformat": 4,
  "nbformat_minor": 4
}
