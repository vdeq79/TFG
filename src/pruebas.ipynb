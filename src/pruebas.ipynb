{
 "cells": [
  {
   "cell_type": "code",
   "execution_count": 23,
   "metadata": {},
   "outputs": [],
   "source": [
    "import numpy as np\n",
    "from hmmlearn import hmm\n",
    "import sys"
   ]
  },
  {
   "cell_type": "code",
   "execution_count": 10,
   "metadata": {},
   "outputs": [],
   "source": [
    "model = hmm.CategoricalHMM(n_components=2, n_features=4)"
   ]
  },
  {
   "cell_type": "code",
   "execution_count": 11,
   "metadata": {},
   "outputs": [],
   "source": [
    "model.startprob_ = np.array([0.5,0.5])"
   ]
  },
  {
   "cell_type": "code",
   "execution_count": 12,
   "metadata": {},
   "outputs": [],
   "source": [
    "model.transmat_ = np.array([[0.5,0.5],[0.4,0.6]])"
   ]
  },
  {
   "cell_type": "code",
   "execution_count": 13,
   "metadata": {},
   "outputs": [],
   "source": [
    "model.emissionprob_=np.array([[0.2,0.3,0.3,0.2],[0.3,0.2,0.2,0.3]])"
   ]
  },
  {
   "cell_type": "code",
   "execution_count": 14,
   "metadata": {},
   "outputs": [],
   "source": [
    "sample=\"taacatacttattgtttttaactactcgttttccattcgactcatcacgctccccccccccccccccccccttatccgttccgttcgacgtatttcgttgtctaatttctgacgtaacttgttccctgttaagtaccgtttatggcctatactccggtatttaaaacgacgacgattccaccgtaaagccgtcaaccagatgaacgacctcgctcgttatatttttccggcaaaatccctatttccgattcgcttagtgctaccgacgctatatcgttccgcaattcctcgagatcatcgatttcttctccggcgacgtctcaagtttttccgttacaacgcgatctatcctgtaaattcgaccgcgctcattctcacgttttatacattgcgcagttgattacgctaaataatccgctgactgttaccttccctgttagattcgcgcattataaactacttactttaacaaacgattttcacagtttaatttctgcgatgacgtctaactcttcagttttaaccgataacaaccttctcgacacttcgtttcttataccatcctcgttatccatacccattcttaaatttctcactactattctctttacaaccacattagctctaatcttacatctaatttctatacataaaatgctccttctgctgtatgtttctctttctcataattacatttttaattactaaatccctcatccctcccacccatctattccaccatcaaggttatacaccatgtattactgtaaaacccactaatattaattgtcaccgatattaaacgaaattcattcacacaaatttcattaattaccttttcttattaattgcatatgtactctacatatactcaaccaactaaaaatcgatattttacatttgatttctaatgtaccccacaactttcttgctttatgattgaacttagctttataataatagttatttaccctaacgcatatactcttatccttatatgaaccttgcttatttgttagatttatccaatctaaaccacagataatatcccttctcttacttcattttattatcaccattttcacttcttcctagatatatacaattatataactctattaccacattttcccttaactttctgttctgcactattatatttactctttttctaaaaccttcttaactttttcagatgca\""
   ]
  },
  {
   "cell_type": "code",
   "execution_count": 15,
   "metadata": {},
   "outputs": [],
   "source": [
    "sample = sample.upper()"
   ]
  },
  {
   "cell_type": "code",
   "execution_count": 16,
   "metadata": {},
   "outputs": [],
   "source": [
    "sample_sym=np.array([[0 if letter == 'A' else 1 if letter == 'C' else 2 if letter == 'G' else 3] for letter in sample])"
   ]
  },
  {
   "cell_type": "code",
   "execution_count": 17,
   "metadata": {},
   "outputs": [
    {
     "name": "stdout",
     "output_type": "stream",
     "text": [
      "--- 0.000997781753540039 seconds ---\n"
     ]
    }
   ],
   "source": [
    "import time\n",
    "start_time = time.time()\n",
    "model.predict(sample_sym)\n",
    "print(\"--- %s seconds ---\" % (time.time() - start_time))"
   ]
  },
  {
   "cell_type": "code",
   "execution_count": 18,
   "metadata": {},
   "outputs": [
    {
     "data": {
      "text/plain": [
       "(-2211.9786086289496, array([1, 1, 1, ..., 0, 0, 1], dtype=int64))"
      ]
     },
     "execution_count": 18,
     "metadata": {},
     "output_type": "execute_result"
    }
   ],
   "source": [
    "result=model.decode(sample_sym)\n",
    "result"
   ]
  },
  {
   "cell_type": "code",
   "execution_count": 24,
   "metadata": {},
   "outputs": [],
   "source": [
    "np.set_printoptions(threshold=sys.maxsize)"
   ]
  },
  {
   "cell_type": "code",
   "execution_count": 26,
   "metadata": {},
   "outputs": [
    {
     "name": "stdout",
     "output_type": "stream",
     "text": [
      "['H' 'H' 'L' 'L' 'L' 'H' 'H' 'L' 'L' 'L' 'L' 'L' 'L' 'L' 'L' 'H' 'H' 'H'\n",
      " 'L' 'H' 'H' 'H' 'H' 'H' 'H' 'H' 'H' 'H' 'H' 'H' 'H' 'H' 'H' 'H' 'H' 'H'\n",
      " 'H' 'H' 'H' 'L' 'L' 'L' 'L' 'H' 'H' 'H' 'L' 'L' 'H' 'H' 'H' 'L' 'L' 'H'\n",
      " 'H' 'L' 'H' 'H' 'L' 'L' 'L' 'L' 'L' 'H' 'H' 'L' 'L' 'L' 'L' 'L' 'L' 'L'\n",
      " 'L' 'L' 'L' 'L' 'L' 'L' 'L' 'L' 'H' 'H' 'L' 'L' 'L' 'L' 'L' 'L' 'L' 'L'\n",
      " 'L' 'H' 'H' 'H' 'L' 'L' 'L' 'L' 'L' 'L' 'L' 'L' 'L' 'H' 'H' 'H' 'L' 'L'\n",
      " 'L' 'L' 'L' 'H' 'H' 'H' 'H' 'L' 'L' 'L' 'L' 'L' 'L' 'H' 'H' 'H' 'H' 'L'\n",
      " 'L' 'L' 'L' 'L' 'L' 'L' 'L' 'L' 'H' 'H' 'L' 'H' 'H' 'L' 'H' 'H' 'L' 'L'\n",
      " 'L' 'H' 'H' 'L' 'H' 'H' 'H' 'L' 'L' 'L' 'L' 'H' 'H' 'H' 'H' 'L' 'L' 'L'\n",
      " 'L' 'H' 'H' 'L' 'L' 'L' 'L' 'L' 'L' 'L' 'H' 'H' 'L' 'H' 'H' 'L' 'H' 'H'\n",
      " 'H' 'L' 'H' 'H' 'L' 'L' 'L' 'L' 'L' 'L' 'L' 'L' 'L' 'L' 'H' 'H' 'H' 'H'\n",
      " 'H']\n"
     ]
    }
   ],
   "source": [
    "result_sym=np.array(['L' if state==1 else 'H' for state in result[1]])\n",
    "print(result_sym[32:231])"
   ]
  },
  {
   "cell_type": "code",
   "execution_count": 21,
   "metadata": {},
   "outputs": [
    {
     "data": {
      "text/plain": [
       "1200"
      ]
     },
     "execution_count": 21,
     "metadata": {},
     "output_type": "execute_result"
    }
   ],
   "source": [
    "len(result_sym)"
   ]
  },
  {
   "cell_type": "code",
   "execution_count": 4,
   "metadata": {},
   "outputs": [
    {
     "name": "stdout",
     "output_type": "stream",
     "text": [
      "¡Error, existe elemento de la secuencia que no se encuentra en el alfabeto!\n"
     ]
    },
    {
     "ename": "ValueError",
     "evalue": "'0' is not in list",
     "output_type": "error",
     "traceback": [
      "\u001b[1;31m---------------------------------------------------------------------------\u001b[0m",
      "\u001b[1;31mValueError\u001b[0m                                Traceback (most recent call last)",
      "Cell \u001b[1;32mIn[4], line 5\u001b[0m\n\u001b[0;32m      3\u001b[0m alphabet \u001b[39m=\u001b[39m \u001b[39mlist\u001b[39m(\u001b[39mmap\u001b[39m(\u001b[39mstr\u001b[39m\u001b[39m.\u001b[39mupper, alphabet))\n\u001b[0;32m      4\u001b[0m \u001b[39mtry\u001b[39;00m:\n\u001b[1;32m----> 5\u001b[0m     \u001b[39mlist\u001b[39;49m(\u001b[39mmap\u001b[39;49m(alphabet\u001b[39m.\u001b[39;49mindex, \u001b[39m\"\u001b[39;49m\u001b[39m12354026\u001b[39;49m\u001b[39m\"\u001b[39;49m))\n\u001b[0;32m      6\u001b[0m \u001b[39mexcept\u001b[39;00m \u001b[39mValueError\u001b[39;00m:\n\u001b[0;32m      7\u001b[0m     \u001b[39mprint\u001b[39m(\u001b[39m\"\u001b[39m\u001b[39m¡Error, existe elemento de la secuencia que no se encuentra en el alfabeto!\u001b[39m\u001b[39m\"\u001b[39m)\n",
      "\u001b[1;31mValueError\u001b[0m: '0' is not in list"
     ]
    }
   ],
   "source": [
    "alphabet = [1,2,3,5,4]\n",
    "alphabet = map(str, alphabet)\n",
    "alphabet = list(map(str.upper, alphabet))\n",
    "try:\n",
    "    list(map(alphabet.index, \"12354026\"))\n",
    "except ValueError:\n",
    "    print(\"¡Error, existe elemento de la secuencia que no se encuentra en el alfabeto!\")\n",
    "    raise"
   ]
  }
 ],
 "metadata": {
  "kernelspec": {
   "display_name": "Python 3",
   "language": "python",
   "name": "python3"
  },
  "language_info": {
   "codemirror_mode": {
    "name": "ipython",
    "version": 3
   },
   "file_extension": ".py",
   "mimetype": "text/x-python",
   "name": "python",
   "nbconvert_exporter": "python",
   "pygments_lexer": "ipython3",
   "version": "3.11.2"
  },
  "orig_nbformat": 4
 },
 "nbformat": 4,
 "nbformat_minor": 2
}
