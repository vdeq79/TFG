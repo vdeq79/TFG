{
 "cells": [
  {
   "cell_type": "code",
   "execution_count": 1,
   "metadata": {},
   "outputs": [],
   "source": [
    "import numpy as np\n",
    "from hmmlearn import hmm\n",
    "import sys"
   ]
  },
  {
   "cell_type": "code",
   "execution_count": 22,
   "metadata": {},
   "outputs": [],
   "source": [
    "model = hmm.CategoricalHMM(n_components=20, n_features=40)"
   ]
  },
  {
   "cell_type": "code",
   "execution_count": 25,
   "metadata": {},
   "outputs": [
    {
     "name": "stderr",
     "output_type": "stream",
     "text": [
      "Even though the 'startprob_' attribute is set, it will be overwritten during initialization because 'init_params' contains 's'\n",
      "Even though the 'transmat_' attribute is set, it will be overwritten during initialization because 'init_params' contains 't'\n",
      "Fitting a model with 1179 free scalar parameters with only 20 data points will result in a degenerate solution.\n",
      "Even though the 'emissionprob_' attribute is set, it will be overwritten during initialization because 'init_params' contains 'e'\n"
     ]
    },
    {
     "data": {
      "text/plain": [
       "array([2.69869905e-68, 2.31048195e-06, 4.76491866e-04, 1.77231698e-07,\n",
       "       2.50309770e-03, 9.12613336e-07, 3.55099851e-09, 3.76132569e-12,\n",
       "       2.26630987e-14, 1.42327369e-03, 7.02610970e-07, 1.62906301e-07,\n",
       "       5.66113254e-03, 3.64855420e-16, 4.46168076e-08, 3.99866512e-11,\n",
       "       5.16896193e-05, 9.89879335e-01, 6.65099618e-07, 3.64942915e-22])"
      ]
     },
     "execution_count": 25,
     "metadata": {},
     "output_type": "execute_result"
    }
   ],
   "source": [
    "model.fit([[0]*20])\n",
    "model.startprob_"
   ]
  },
  {
   "cell_type": "code",
   "execution_count": 26,
   "metadata": {},
   "outputs": [
    {
     "name": "stderr",
     "output_type": "stream",
     "text": [
      "Even though the 'startprob_' attribute is set, it will be overwritten during initialization because 'init_params' contains 's'\n",
      "Even though the 'transmat_' attribute is set, it will be overwritten during initialization because 'init_params' contains 't'\n",
      "Even though the 'emissionprob_' attribute is set, it will be overwritten during initialization because 'init_params' contains 'e'\n"
     ]
    },
    {
     "data": {
      "text/plain": [
       "array([1.50666533e-01, 4.65149244e-06, 3.58864980e-15, 1.94208429e-05,\n",
       "       9.18804478e-03, 4.17839722e-01, 2.81460890e-03, 1.07906176e-04,\n",
       "       3.86618624e-03, 3.75312341e-20, 5.27776553e-11, 2.68887973e-05,\n",
       "       2.97576030e-21, 4.01846030e-01, 1.90547771e-07, 1.27480908e-02,\n",
       "       3.59293027e-12, 2.46226104e-04, 3.28324758e-13, 6.25500383e-04])"
      ]
     },
     "execution_count": 26,
     "metadata": {},
     "output_type": "execute_result"
    }
   ],
   "source": [
    "model.fit([[0]*2000])\n",
    "model.startprob_"
   ]
  },
  {
   "cell_type": "code",
   "execution_count": 3,
   "metadata": {},
   "outputs": [],
   "source": [
    "model.startprob_ = np.array([0.5,0.5])"
   ]
  },
  {
   "cell_type": "code",
   "execution_count": 4,
   "metadata": {},
   "outputs": [],
   "source": [
    "model.transmat_ = np.array([[0.5,0.5],[0.4,0.6]])"
   ]
  },
  {
   "cell_type": "code",
   "execution_count": 5,
   "metadata": {},
   "outputs": [],
   "source": [
    "model.emissionprob_=np.array([[0.2,0.3,0.3,0.2],[0.3,0.2,0.2,0.3]])"
   ]
  },
  {
   "cell_type": "code",
   "execution_count": 6,
   "metadata": {},
   "outputs": [],
   "source": [
    "sample=\"taacatacttattgtttttaactactcgttttccattcgactcatcacgctccccccccccccccccccccttatccgttccgttcgacgtatttcgttgtctaatttctgacgtaacttgttccctgttaagtaccgtttatggcctatactccggtatttaaaacgacgacgattccaccgtaaagccgtcaaccagatgaacgacctcgctcgttatatttttccggcaaaatccctatttccgattcgcttagtgctaccgacgctatatcgttccgcaattcctcgagatcatcgatttcttctccggcgacgtctcaagtttttccgttacaacgcgatctatcctgtaaattcgaccgcgctcattctcacgttttatacattgcgcagttgattacgctaaataatccgctgactgttaccttccctgttagattcgcgcattataaactacttactttaacaaacgattttcacagtttaatttctgcgatgacgtctaactcttcagttttaaccgataacaaccttctcgacacttcgtttcttataccatcctcgttatccatacccattcttaaatttctcactactattctctttacaaccacattagctctaatcttacatctaatttctatacataaaatgctccttctgctgtatgtttctctttctcataattacatttttaattactaaatccctcatccctcccacccatctattccaccatcaaggttatacaccatgtattactgtaaaacccactaatattaattgtcaccgatattaaacgaaattcattcacacaaatttcattaattaccttttcttattaattgcatatgtactctacatatactcaaccaactaaaaatcgatattttacatttgatttctaatgtaccccacaactttcttgctttatgattgaacttagctttataataatagttatttaccctaacgcatatactcttatccttatatgaaccttgcttatttgttagatttatccaatctaaaccacagataatatcccttctcttacttcattttattatcaccattttcacttcttcctagatatatacaattatataactctattaccacattttcccttaactttctgttctgcactattatatttactctttttctaaaaccttcttaactttttcagatgca\""
   ]
  },
  {
   "cell_type": "code",
   "execution_count": 7,
   "metadata": {},
   "outputs": [],
   "source": [
    "sample = sample.upper()"
   ]
  },
  {
   "cell_type": "code",
   "execution_count": 8,
   "metadata": {},
   "outputs": [],
   "source": [
    "sample_sym=np.array([[0 if letter == 'A' else 1 if letter == 'C' else 2 if letter == 'G' else 3] for letter in sample])"
   ]
  },
  {
   "cell_type": "code",
   "execution_count": 9,
   "metadata": {},
   "outputs": [
    {
     "name": "stdout",
     "output_type": "stream",
     "text": [
      "--- 0.0009968280792236328 seconds ---\n"
     ]
    }
   ],
   "source": [
    "import time\n",
    "start_time = time.time()\n",
    "model.predict(sample_sym)\n",
    "print(\"--- %s seconds ---\" % (time.time() - start_time))"
   ]
  },
  {
   "cell_type": "code",
   "execution_count": 10,
   "metadata": {},
   "outputs": [
    {
     "data": {
      "text/plain": [
       "(-2211.9786086289496, array([1, 1, 1, ..., 0, 0, 1], dtype=int64))"
      ]
     },
     "execution_count": 10,
     "metadata": {},
     "output_type": "execute_result"
    }
   ],
   "source": [
    "result=model.decode(sample_sym)\n",
    "result"
   ]
  },
  {
   "cell_type": "code",
   "execution_count": 11,
   "metadata": {},
   "outputs": [],
   "source": [
    "np.set_printoptions(threshold=sys.maxsize)"
   ]
  },
  {
   "cell_type": "code",
   "execution_count": 12,
   "metadata": {},
   "outputs": [
    {
     "name": "stdout",
     "output_type": "stream",
     "text": [
      "['H' 'H' 'L' 'L' 'L' 'H' 'H' 'L' 'L' 'L' 'L' 'L' 'L' 'L' 'L' 'H' 'H' 'H'\n",
      " 'L' 'H' 'H' 'H' 'H' 'H' 'H' 'H' 'H' 'H' 'H' 'H' 'H' 'H' 'H' 'H' 'H' 'H'\n",
      " 'H' 'H' 'H' 'L' 'L' 'L' 'L' 'H' 'H' 'H' 'L' 'L' 'H' 'H' 'H' 'L' 'L' 'H'\n",
      " 'H' 'L' 'H' 'H' 'L' 'L' 'L' 'L' 'L' 'H' 'H' 'L' 'L' 'L' 'L' 'L' 'L' 'L'\n",
      " 'L' 'L' 'L' 'L' 'L' 'L' 'L' 'L' 'H' 'H' 'L' 'L' 'L' 'L' 'L' 'L' 'L' 'L'\n",
      " 'L' 'H' 'H' 'H' 'L' 'L' 'L' 'L' 'L' 'L' 'L' 'L' 'L' 'H' 'H' 'H' 'L' 'L'\n",
      " 'L' 'L' 'L' 'H' 'H' 'H' 'H' 'L' 'L' 'L' 'L' 'L' 'L' 'H' 'H' 'H' 'H' 'L'\n",
      " 'L' 'L' 'L' 'L' 'L' 'L' 'L' 'L' 'H' 'H' 'L' 'H' 'H' 'L' 'H' 'H' 'L' 'L'\n",
      " 'L' 'H' 'H' 'L' 'H' 'H' 'H' 'L' 'L' 'L' 'L' 'H' 'H' 'H' 'H' 'L' 'L' 'L'\n",
      " 'L' 'H' 'H' 'L' 'L' 'L' 'L' 'L' 'L' 'L' 'H' 'H' 'L' 'H' 'H' 'L' 'H' 'H'\n",
      " 'H' 'L' 'H' 'H' 'L' 'L' 'L' 'L' 'L' 'L' 'L' 'L' 'L' 'L' 'H' 'H' 'H' 'H'\n",
      " 'H']\n"
     ]
    }
   ],
   "source": [
    "result_sym=np.array(['L' if state==1 else 'H' for state in result[1]])\n",
    "print(result_sym[32:231])"
   ]
  },
  {
   "cell_type": "code",
   "execution_count": 13,
   "metadata": {},
   "outputs": [
    {
     "data": {
      "text/plain": [
       "1200"
      ]
     },
     "execution_count": 13,
     "metadata": {},
     "output_type": "execute_result"
    }
   ],
   "source": [
    "len(result_sym)"
   ]
  }
 ],
 "metadata": {
  "kernelspec": {
   "display_name": "Python 3",
   "language": "python",
   "name": "python3"
  },
  "language_info": {
   "codemirror_mode": {
    "name": "ipython",
    "version": 3
   },
   "file_extension": ".py",
   "mimetype": "text/x-python",
   "name": "python",
   "nbconvert_exporter": "python",
   "pygments_lexer": "ipython3",
   "version": "3.11.2"
  },
  "orig_nbformat": 4
 },
 "nbformat": 4,
 "nbformat_minor": 2
}
