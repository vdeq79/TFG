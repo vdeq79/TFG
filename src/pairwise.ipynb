{
 "cells": [
  {
   "cell_type": "code",
   "execution_count": 1,
   "metadata": {},
   "outputs": [],
   "source": [
    "import numpy as np\n",
    "from hmmlearn import hmm"
   ]
  },
  {
   "cell_type": "code",
   "execution_count": 14,
   "metadata": {},
   "outputs": [],
   "source": [
    "class PairwiseHMM(hmm.CategoricalHMM):\n",
    "    def __init__ (self, n_features, delta, tau, epsilon):\n",
    "\n",
    "        #Los cinco estados son (Begin, M, X, Y, End)\n",
    "        super().__init__(n_components=5, n_features= n_features)\n",
    "\n",
    "        self.startprob_ = np.array([1,0,0,0,0])\n",
    "\n",
    "        self.transmat_  = np.array([[0,1-2*delta-tau, delta, delta, tau], \n",
    "                                   [0,1-2*delta-tau, delta, delta, tau],\n",
    "                                   [0,1-epsilon-tau, epsilon, 0, tau],\n",
    "                                   [0,1-epsilon-tau, 0, epsilon, tau],\n",
    "                                   [0,0,0,0,1]]) \n",
    "\n",
    "\n",
    "    '''def _check(self):\n",
    "        #Llamamos a check del abuelo\n",
    "        super(hmm.CategoricalHMM, self)._check()\n",
    "        \n",
    "        #Elimino la restricción de que la suma de filas de la matriz de emisión tenga que ser 1\n",
    "        self.emissionprob_ = np.atleast_2d(self.emissionprob_)\n",
    "        if self.n_features is None:\n",
    "            self.n_features = self.emissionprob_.shape[1]\n",
    "        if self.emissionprob_.shape != (self.n_components, self.n_features):\n",
    "            raise ValueError(\n",
    "                f\"emissionprob_ must have shape\"\n",
    "                f\"({self.n_components}, {self.n_features})\")'''\n",
    "        \n",
    "    def modifiedViterbi(self, x, y):\n",
    "        #Tendremos valores de (0,0) a (n,m)\n",
    "        n = len(x)\n",
    "        m = len(y)\n",
    "\n",
    "        v_M = np.zeros((n+1, m+1))\n",
    "        v_X = np.zeros((n+1, m+1))\n",
    "        v_Y = np.zeros((n+1, m+1))\n",
    "\n",
    "        pointer_M = [[None*(m+1)]*(n+1)]\n",
    "        pointer_X = [[None*(m+1)]*(n+1)]\n",
    "        pointer_Y = [[None*(m+1)]*(n+1)]\n",
    "\n",
    "        v_M[0][0] = 1\n",
    "\n",
    "        for i in range(1,n+1):\n",
    "            for j in range(1,m+1):\n",
    "                "
   ]
  },
  {
   "cell_type": "code",
   "execution_count": 9,
   "metadata": {},
   "outputs": [],
   "source": [
    "model = PairwiseHMM(25,1/10,1/20,1/10)"
   ]
  },
  {
   "cell_type": "code",
   "execution_count": 12,
   "metadata": {},
   "outputs": [],
   "source": [
    "'''En este caso, las emisiones en cada fila son de forma:\n",
    "(A:A, A:C, A:G, A:T, A:_, C:A, C:C, C:G, C:T, C:_, G:A, G:C, G:G, G:T, G:_, T:A, T:C, T:G, T:T, T:_, _:A, _:C, _:G, _:T, _:_ )\n",
    "'''\n",
    "model.emissionprob_=np.array(\n",
    "[ [ 1/5 if (i % 6==0)  else 1/60 if (i % 5==4) else 0 for i in range(25)],\n",
    "  [ 1/5 if (i % 6==0)  else 1/60 if (i % 5==4) else 0 for i in range(25)],\n",
    "  [ 1/4 if (i >=20 and i<24) else 0 for i in range(25)],\n",
    "  [ 1/4 if (i % 5==4 and i<24) else 0 for i in range(25)],\n",
    "  [ 1 if (i==24) else 0 for i in range(25)]\n",
    "]\n",
    ")"
   ]
  },
  {
   "cell_type": "code",
   "execution_count": 18,
   "metadata": {},
   "outputs": [],
   "source": [
    "def decodify(x):\n",
    "    return np.array([0 if letter == 'A' else 1 if letter=='C' else 2 if letter=='G' else 3 for letter in x.upper()])"
   ]
  },
  {
   "cell_type": "code",
   "execution_count": 19,
   "metadata": {},
   "outputs": [
    {
     "data": {
      "text/plain": [
       "array([0, 2, 1, 2, 3, 3, 0])"
      ]
     },
     "execution_count": 19,
     "metadata": {},
     "output_type": "execute_result"
    }
   ],
   "source": [
    "decodify(\"agcgtta\")"
   ]
  }
 ],
 "metadata": {
  "kernelspec": {
   "display_name": "Python 3",
   "language": "python",
   "name": "python3"
  },
  "language_info": {
   "codemirror_mode": {
    "name": "ipython",
    "version": 3
   },
   "file_extension": ".py",
   "mimetype": "text/x-python",
   "name": "python",
   "nbconvert_exporter": "python",
   "pygments_lexer": "ipython3",
   "version": "3.11.2"
  },
  "orig_nbformat": 4
 },
 "nbformat": 4,
 "nbformat_minor": 2
}
