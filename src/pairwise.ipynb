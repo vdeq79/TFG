{
 "cells": [
  {
   "cell_type": "code",
   "execution_count": 537,
   "metadata": {},
   "outputs": [],
   "source": [
    "import numpy as np\n",
    "from hmmlearn import hmm\n",
    "import time"
   ]
  },
  {
   "cell_type": "code",
   "execution_count": 538,
   "metadata": {},
   "outputs": [],
   "source": [
    "class PairwiseHMM(hmm.CategoricalHMM):\n",
    "    def __init__ (self, n_features, mu, epsilon ,tau):\n",
    "\n",
    "        #Los cinco estados son (Begin, M, X, Y, End)\n",
    "        super().__init__(n_components=5, n_features= n_features)\n",
    "\n",
    "        match_to_ins = np.subtract(1.0, 2.0*mu+tau)\n",
    "        ins_to_match = np.subtract(1.0, epsilon+tau)\n",
    "\n",
    "        if match_to_ins<0.0 :\n",
    "            raise ValueError(f\"1-2*mu-tau must be non negative (got {match_to_ins:.4f})\")\n",
    "\n",
    "        if ins_to_match<0.0 :\n",
    "            raise ValueError(f\"1-epsilon-tau must be non negative (got {ins_to_match:.4f})\")\n",
    "\n",
    "        self.transmat_  = np.array([[0,match_to_ins, mu, mu, tau], \n",
    "                                   [0,match_to_ins, mu, mu, tau],\n",
    "                                   [0,ins_to_match, epsilon, 0, tau],\n",
    "                                   [0,ins_to_match, 0, epsilon, tau],\n",
    "                                   [0,0,0,0,1]]) \n",
    "\n",
    "    def modifiedViterbi(self, x, y):\n",
    "        #Tendremos valores de (0,0) a (n,m)\n",
    "        n = len(x)\n",
    "        m = len(y)\n",
    "\n",
    "        v = np.zeros((3, n+1, m+1))\n",
    "        pointer = np.zeros((3, n+1, m+1), dtype=int)\n",
    "\n",
    "        #Ignorar el warning de división entre 0 a la hora de calcular log(0)\n",
    "        with np.errstate(divide='ignore'): \n",
    "            #Inicializar las variables\n",
    "            v = np.log(v)\n",
    "        \n",
    "        v[0,0,0] = 0\n",
    "\n",
    "        for i in range(1,n+1):\n",
    "            v[1,i,0] = np.log(self.emissionprob_[2,16+x[i-1]])+np.max([np.log(self.transmat_[1,2])+v[0,i-1,0], np.log(self.transmat_[2,2])+v[1,i-1,0] ])\n",
    "            pointer[1,i,0] = np.argmax([np.log(self.transmat_[1,2])+v[0,i-1,0], np.log(self.transmat_[2,2])+v[1,i-1,0], -np.inf ])\n",
    "\n",
    "        for j in range(1,m+1):\n",
    "            v[2,0,j] = np.log(self.emissionprob_[3,20+y[j-1]])+np.max([np.log(self.transmat_[1,3])+v[0,0,j-1], np.log(self.transmat_[3,3])+v[2,0,j-1] ])\n",
    "            pointer[2,0,j] = np.argmax([np.log(self.transmat_[1,3])+v[0,0,j-1], -np.inf ,np.log(self.transmat_[3,3])+v[2,0,j-1] ])\n",
    "\n",
    "        for i in range(1,n+1):\n",
    "            for j in range(1,m+1):\n",
    "                v[0,i,j] = np.log(self.emissionprob_[1,x[i-1]*4+y[j-1]])+np.max([np.log(self.transmat_[1,1])+v[0,i-1,j-1], np.log(self.transmat_[2,1])+v[1,i-1,j-1], np.log(self.transmat_[3,1])+v[2,i-1,j-1] ])\n",
    "                pointer[0,i,j] = np.argmax([np.log(self.transmat_[1,1])+v[0,i-1,j-1], np.log(self.transmat_[2,1])+v[1,i-1,j-1], np.log(self.transmat_[3,1])+v[2,i-1,j-1] ])\n",
    "\n",
    "                v[1,i,j] = np.log(self.emissionprob_[2,16+x[i-1]])+np.max([np.log(self.transmat_[1,2])+v[0,i-1,j], np.log(self.transmat_[2,2])+v[1,i-1,j] ])\n",
    "                pointer[1,i,j] = np.argmax([np.log(self.transmat_[1,2])+v[0,i-1,j], np.log(self.transmat_[2,2])+v[1,i-1,j], -np.inf ])\n",
    "\n",
    "                v[2,i,j] = np.log(self.emissionprob_[3,20+y[j-1]])+np.max([np.log(self.transmat_[1,3])+v[0,i,j-1], np.log(self.transmat_[3,3])+v[2,i,j-1] ])\n",
    "                pointer[2,i,j] = np.argmax([np.log(self.transmat_[1,3])+v[0,i,j-1], -np.inf ,np.log(self.transmat_[3,3])+v[2,i,j-1] ])\n",
    "\n",
    "        sequence = [ np.argmax([v[0,n,m], v[1,n,m], v[2,n,m] ])]\n",
    "        i = n\n",
    "        j = m\n",
    "\n",
    "        def cases(x, i, j):            \n",
    "            if i>0 and (x==0 or x==1):\n",
    "                i-=1\n",
    "            if j>0 and (x==0 or x==2):\n",
    "                j-=1\n",
    "            return i,j\n",
    "\n",
    "        while i>0 or j>0:\n",
    "            estado_siguiente = pointer[sequence[-1] ,i,j]\n",
    "            i,j = cases(sequence[-1],i,j) \n",
    "            sequence.append( estado_siguiente )\n",
    "\n",
    "        #Eliminamos el último elemento pues es siempre el estado inicial\n",
    "        del sequence[-1]\n",
    "        sequence.reverse()\n",
    "        return v, sequence, pointer\n",
    "    \n",
    "\n",
    "    def modifiedFoward(self, x, y):\n",
    "        #Tendremos valores de (0,0) a (n,m)\n",
    "        n = len(x)\n",
    "        m = len(y)\n",
    "\n",
    "        v = np.zeros((3, n+1, m+1))\n",
    "        v[0,0,0] = 1\n",
    "\n",
    "        for i in range(1,n+1):\n",
    "            v[1,i,0] = self.emissionprob_[2,16+x[i-1]]*np.sum([self.transmat_[1,2]*v[0,i-1,0], self.transmat_[2,2]*v[1,i-1,0] ])\n",
    "\n",
    "        for j in range(1,m+1):\n",
    "            v[2,0,j] = self.emissionprob_[3,20+y[j-1]]*np.sum([self.transmat_[1,3]*v[0,0,j-1], self.transmat_[3,3]*v[2,0,j-1] ])\n",
    "            \n",
    "        for i in range(1,n+1):\n",
    "            for j in range(1,m+1):\n",
    "                v[0,i,j] = self.emissionprob_[1,x[i-1]*4+y[j-1]]*np.sum([self.transmat_[1,1]*v[0,i-1,j-1], self.transmat_[2,1]*v[1,i-1,j-1], self.transmat_[3,1]*v[2,i-1,j-1] ])\n",
    "\n",
    "                v[1,i,j] = self.emissionprob_[2,16+x[i-1]]*np.sum([self.transmat_[1,2]*v[0,i-1,j], self.transmat_[2,2]*v[1,i-1,j] ])\n",
    "\n",
    "                v[2,i,j] = self.emissionprob_[3,20+y[j-1]]*np.sum([self.transmat_[1,3]*v[0,i,j-1], self.transmat_[3,3]*v[2,i,j-1] ])\n",
    "\n",
    "        return self.transmat_[0,4]*np.sum([v[0,n,m], v[1,n,m], v[2,n,m]])"
   ]
  },
  {
   "cell_type": "code",
   "execution_count": 539,
   "metadata": {},
   "outputs": [
    {
     "data": {
      "text/plain": [
       "[0, 1, 2]"
      ]
     },
     "execution_count": 539,
     "metadata": {},
     "output_type": "execute_result"
    }
   ],
   "source": [
    "k=[0,1,2,3,4,5,6]\n",
    "k[0:3]"
   ]
  },
  {
   "cell_type": "code",
   "execution_count": 540,
   "metadata": {},
   "outputs": [],
   "source": [
    "model = PairwiseHMM(25, 0.4, 0.5, 0.1)"
   ]
  },
  {
   "cell_type": "code",
   "execution_count": 541,
   "metadata": {},
   "outputs": [],
   "source": [
    "'''En este caso, las emisiones en cada fila son de forma:\n",
    "(A:A, A:C, A:G, A:T, C:A, C:C, C:G, C:T, G:A, G:C, G:G, G:T, T:A, T:C, T:G, T:T, A:_, C:_, G:_, T:_, _:A, _:C, _:G, _:T, Emisión silenciosa )\n",
    "[ 1/5 if (i % 6==0)  else 1/60 if (i % 5==4) else 0 for i in range(25)],\n",
    "[ 1/5 if (i % 6==0)  else 1/60 if (i % 5==4) else 0 for i in range(25)],\n",
    "[ 1/4 if (i >=20 and i<24) else 0 for i in range(25)],\n",
    "[ 1/4 if (i % 5==4 and i<24) else 0 for i in range(25)],\n",
    "[ 1 if (i==24) else 0 for i in range(25)]\n",
    "'''\n",
    "model.emissionprob_=np.array(\n",
    "[ [0 if (i<24) else 1 for i in range(25)],\n",
    "  [0.125 , 0.0375, 0.0125, 0.075 , 0.0375, 0.125 , 0.075 , 0.0125, 0.0125, 0.075 , 0.125 , 0.0375, 0.075 , 0.0125, 0.0375, 0.125, 0, 0, 0, 0, 0,0,0,0,0 ],\n",
    "  [0.25 if (i>=16 and i<20) else 0 for i in range(25)],\n",
    "  [0.25 if (i>=20 and i<24) else 0 for i in range(25) ],\n",
    "  [0 if (i<24) else 1 for i in range(25)]\n",
    "]\n",
    ")"
   ]
  },
  {
   "cell_type": "code",
   "execution_count": 542,
   "metadata": {},
   "outputs": [],
   "source": [
    "def decodify(x):\n",
    "    return np.array([0 if letter == 'A' else 1 if letter=='C' else 2 if letter=='G' else 3 for letter in x.upper()])"
   ]
  },
  {
   "cell_type": "code",
   "execution_count": 543,
   "metadata": {},
   "outputs": [],
   "source": [
    "def codify(s,x,y):\n",
    "    i=0\n",
    "    j=0\n",
    "    align1 = []\n",
    "    align2 = []\n",
    "    for k in s:\n",
    "        match k:\n",
    "            case 0:\n",
    "                align1.append(x[i])\n",
    "                align2.append(y[j])\n",
    "                i+=1\n",
    "                j+=1\n",
    "            case 1:\n",
    "                align1.append(x[i])\n",
    "                align2.append(\"-\")\n",
    "                i+=1\n",
    "            case 2:\n",
    "                align1.append(\"-\")\n",
    "                align2.append(y[j])\n",
    "                j+=1\n",
    "\n",
    "    return \"\".join(align1), \"\".join(align2)"
   ]
  },
  {
   "cell_type": "code",
   "execution_count": 544,
   "metadata": {},
   "outputs": [],
   "source": [
    "x=\"CACGAAT\"\n",
    "y=\"AGTTCAA\""
   ]
  },
  {
   "cell_type": "code",
   "execution_count": 545,
   "metadata": {},
   "outputs": [
    {
     "name": "stdout",
     "output_type": "stream",
     "text": [
      "[1, 0, 2, 2, 2, 0, 1, 0, 1, 0]\n"
     ]
    }
   ],
   "source": [
    "v, s, p=model.modifiedViterbi( decodify(x), decodify(y) )\n",
    "print(s)"
   ]
  },
  {
   "cell_type": "code",
   "execution_count": 546,
   "metadata": {},
   "outputs": [
    {
     "name": "stdout",
     "output_type": "stream",
     "text": [
      "CA---CGAAT\n",
      "-AGTTC-A-A\n"
     ]
    }
   ],
   "source": [
    "print(\"\\n\".join(codify(s,x,y)))"
   ]
  },
  {
   "cell_type": "code",
   "execution_count": 547,
   "metadata": {},
   "outputs": [
    {
     "data": {
      "text/plain": [
       "1.850365127897263e-11"
      ]
     },
     "execution_count": 547,
     "metadata": {},
     "output_type": "execute_result"
    }
   ],
   "source": [
    "model.modifiedFoward(decodify(x), decodify(y))"
   ]
  },
  {
   "cell_type": "code",
   "execution_count": 548,
   "metadata": {},
   "outputs": [],
   "source": [
    "model = PairwiseHMM(25, 0.1, 0.1, 0.1)\n",
    "\n",
    "model.emissionprob_=np.array(\n",
    "[ [0 if (i<24) else 1 for i in range(25)],\n",
    "  [0.125 , 0.0375, 0.0125, 0.075 , 0.0375, 0.125 , 0.075 , 0.0125, 0.0125, 0.075 , 0.125 , 0.0375, 0.075 , 0.0125, 0.0375, 0.125, 0, 0, 0, 0, 0,0,0,0,0 ],\n",
    "  [0.25 if (i>=16 and i<20) else 0 for i in range(25)],\n",
    "  [0.25 if (i>=20 and i<24) else 0 for i in range(25) ],\n",
    "  [0 if (i<24) else 1 for i in range(25)]\n",
    "]\n",
    ")"
   ]
  },
  {
   "cell_type": "code",
   "execution_count": 549,
   "metadata": {},
   "outputs": [],
   "source": [
    "x=\"TTTAACTTATCG\"\n",
    "y=\"TTACTCG\""
   ]
  },
  {
   "cell_type": "code",
   "execution_count": 550,
   "metadata": {},
   "outputs": [
    {
     "name": "stdout",
     "output_type": "stream",
     "text": [
      "--- 0.005984306335449219 seconds ---\n",
      "[1, 0, 0, 1, 0, 0, 1, 0, 1, 1, 0, 0]\n"
     ]
    }
   ],
   "source": [
    "start_time = time.time()\n",
    "v, s, p=model.modifiedViterbi( decodify(x), decodify(y) )\n",
    "print(\"--- %s seconds ---\" % (time.time() - start_time))\n",
    "print(s)"
   ]
  },
  {
   "cell_type": "code",
   "execution_count": 551,
   "metadata": {},
   "outputs": [
    {
     "name": "stdout",
     "output_type": "stream",
     "text": [
      "TTTAACTTATCG\n",
      "-TT-AC-T--CG\n"
     ]
    }
   ],
   "source": [
    "print(\"\\n\".join(codify(s,x,y)))"
   ]
  },
  {
   "cell_type": "code",
   "execution_count": 552,
   "metadata": {},
   "outputs": [
    {
     "data": {
      "text/plain": [
       "3.8758596420363915e-15"
      ]
     },
     "execution_count": 552,
     "metadata": {},
     "output_type": "execute_result"
    }
   ],
   "source": [
    "model.modifiedFoward(decodify(x), decodify(y))"
   ]
  },
  {
   "cell_type": "code",
   "execution_count": 553,
   "metadata": {},
   "outputs": [],
   "source": [
    "model = PairwiseHMM(25, 0.1, 0.1, 0.02)\n",
    "\n",
    "model.emissionprob_=np.array(\n",
    "[ [0 if (i<24) else 1 for i in range(25)],\n",
    "  [0.125 , 0.0375, 0.0125, 0.075 , 0.0375, 0.125 , 0.075 , 0.0125, 0.0125, 0.075 , 0.125 , 0.0375, 0.075 , 0.0125, 0.0375, 0.125, 0, 0, 0, 0, 0,0,0,0,0 ],\n",
    "  [0.25 if (i>=16 and i<20) else 0 for i in range(25)],\n",
    "  [0.25 if (i>=20 and i<24) else 0 for i in range(25) ],\n",
    "  [0 if (i<24) else 1 for i in range(25)]\n",
    "]\n",
    ")"
   ]
  },
  {
   "cell_type": "code",
   "execution_count": 554,
   "metadata": {},
   "outputs": [],
   "source": [
    "x=\"gcgcgtgcgcggaaggagccaaggtgaagttgtagcagtgtgtcagaagaggtgcgtggcaccatgctgtcccccgaggcggagcgggtgctgcggtacctggtcgaagtagaggagttg\"\n",
    "y=\"gacttgtggaacctacttcctgaaaataaccttctgtcctccgagctctccgcacccgtggatgacctgctcccgtacacagatgttgccacctggctggatgaatgtccgaatgaagcg\""
   ]
  },
  {
   "cell_type": "code",
   "execution_count": 555,
   "metadata": {},
   "outputs": [
    {
     "name": "stdout",
     "output_type": "stream",
     "text": [
      "--- 0.78891921043396 seconds ---\n",
      "gcgcgtgcgcggaaggagccaaggtgaagttgtagcagtgtgtcagaagaggtgcgtggcacca-tgctgtcccccgaggcggagcgggtgctgcggtacctgg-tcgaagta-ga-gg-a-gtt--g\n",
      "ga-cttg-t-ggaacct-acttcctgaa-aataacct-tctgtcctccgagctctc-cgcacccgtggatgacctgctcccgtacacagatgttgcc-acctggctggatgaatgtccgaatgaagcg\n"
     ]
    }
   ],
   "source": [
    "start_time = time.time()\n",
    "v, s, p=model.modifiedViterbi( decodify(x), decodify(y) )\n",
    "print(\"--- %s seconds ---\" % (time.time() - start_time))\n",
    "print(\"\\n\".join(codify(s,x,y)))"
   ]
  },
  {
   "cell_type": "code",
   "execution_count": 556,
   "metadata": {},
   "outputs": [
    {
     "data": {
      "text/plain": [
       "5.859574024342029e-150"
      ]
     },
     "execution_count": 556,
     "metadata": {},
     "output_type": "execute_result"
    }
   ],
   "source": [
    "model.modifiedFoward(decodify(x), decodify(y))"
   ]
  },
  {
   "cell_type": "code",
   "execution_count": 557,
   "metadata": {},
   "outputs": [],
   "source": [
    "a=\"g-cgcgt-gcgcggaaggagccaaggtga-agt-tgt-agcagtg-tgtcagaagaggtgcgtggcaccatgctgtcccccgaggcggagcgggtgctgcggtacctggtcgaagtagaggagttg\"\n",
    "\n",
    "b=\"gacttgtggaacctacttcctgaaaataaccttctgtcctccgagctctccgcacccgtggatgacctgctcccgtacacagatgttgccacctggctg-gatgaatgtccgaa-t-ga--agc-g\""
   ]
  },
  {
   "cell_type": "code",
   "execution_count": 558,
   "metadata": {},
   "outputs": [],
   "source": [
    "def score(a,b):\n",
    "    sum = 0\n",
    "    for i in range(len(a)):\n",
    "        if a[i]==b[i]:\n",
    "            sum +=2\n",
    "        elif a[i]!=b[i] and a[i]!=\"-\" and b[i]!=\"-\":\n",
    "            sum+=1\n",
    "        else:\n",
    "            sum-=1\n",
    "\n",
    "    return sum"
   ]
  },
  {
   "cell_type": "code",
   "execution_count": 559,
   "metadata": {},
   "outputs": [
    {
     "data": {
      "text/plain": [
       "159"
      ]
     },
     "execution_count": 559,
     "metadata": {},
     "output_type": "execute_result"
    }
   ],
   "source": [
    "score(a,b)"
   ]
  },
  {
   "cell_type": "code",
   "execution_count": 560,
   "metadata": {},
   "outputs": [
    {
     "name": "stdout",
     "output_type": "stream",
     "text": [
      "gcgcgtgcgcggaaggagccaaggtgaagttgtagcagtgtgtcagaagaggtgcgtggcacca-tgctgtcccccgaggcggagcgggtgctgcggtacctgg-tcgaagta-ga-gg-a-gtt--g\n",
      "ga-cttg-t-ggaacct-acttcctgaa-aataacct-tctgtcctccgagctctc-cgcacccgtggatgacctgctcccgtacacagatgttgcc-acctggctggatgaatgtccgaatgaagcg\n"
     ]
    },
    {
     "data": {
      "text/plain": [
       "150"
      ]
     },
     "execution_count": 560,
     "metadata": {},
     "output_type": "execute_result"
    }
   ],
   "source": [
    "c,d = codify(s,x,y)\n",
    "print(c)\n",
    "print(d)\n",
    "score(c,d)"
   ]
  },
  {
   "cell_type": "code",
   "execution_count": 561,
   "metadata": {},
   "outputs": [],
   "source": [
    "model = PairwiseHMM(25, 0.2, 0.1, 0.1)\n",
    "\n",
    "model.emissionprob_=np.array(\n",
    "[ [0 if (i<24) else 1 for i in range(25)],\n",
    "  [0.125 , 0.0375, 0.0125, 0.075 , 0.0375, 0.125 , 0.075 , 0.0125, 0.0125, 0.075 , 0.125 , 0.0375, 0.075 , 0.0125, 0.0375, 0.125, 0, 0, 0, 0, 0,0,0,0,0 ],\n",
    "  [0.25 if (i>=16 and i<20) else 0 for i in range(25)],\n",
    "  [0.25 if (i>=20 and i<24) else 0 for i in range(25) ],\n",
    "  [0 if (i<24) else 1 for i in range(25)]\n",
    "]\n",
    ")"
   ]
  },
  {
   "cell_type": "code",
   "execution_count": 562,
   "metadata": {},
   "outputs": [],
   "source": [
    "x=\"TTACG\"\n",
    "y=\"TAG\""
   ]
  },
  {
   "cell_type": "code",
   "execution_count": 563,
   "metadata": {},
   "outputs": [
    {
     "name": "stdout",
     "output_type": "stream",
     "text": [
      "--- 0.0009975433349609375 seconds ---\n",
      "TTACG\n",
      "-TA-G\n"
     ]
    }
   ],
   "source": [
    "start_time = time.time()\n",
    "v, s, p=model.modifiedViterbi( decodify(x), decodify(y) )\n",
    "print(\"--- %s seconds ---\" % (time.time() - start_time))\n",
    "print(\"\\n\".join(codify(s,x,y)))"
   ]
  },
  {
   "cell_type": "code",
   "execution_count": 564,
   "metadata": {},
   "outputs": [
    {
     "name": "stdout",
     "output_type": "stream",
     "text": [
      "5.712099609375003e-07\n"
     ]
    }
   ],
   "source": [
    "p = model.modifiedFoward(decodify(x), decodify(y))\n",
    "print(p)"
   ]
  }
 ],
 "metadata": {
  "kernelspec": {
   "display_name": "Python 3",
   "language": "python",
   "name": "python3"
  },
  "language_info": {
   "codemirror_mode": {
    "name": "ipython",
    "version": 3
   },
   "file_extension": ".py",
   "mimetype": "text/x-python",
   "name": "python",
   "nbconvert_exporter": "python",
   "pygments_lexer": "ipython3",
   "version": "3.11.2"
  },
  "orig_nbformat": 4
 },
 "nbformat": 4,
 "nbformat_minor": 2
}
