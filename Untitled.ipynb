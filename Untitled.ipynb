{
  "metadata": {
    "language_info": {
      "codemirror_mode": {
        "name": "python",
        "version": 3
      },
      "file_extension": ".py",
      "mimetype": "text/x-python",
      "name": "python",
      "nbconvert_exporter": "python",
      "pygments_lexer": "ipython3",
      "version": "3.8"
    },
    "kernelspec": {
      "name": "python",
      "display_name": "Python (Pyodide)",
      "language": "python"
    }
  },
  "nbformat_minor": 4,
  "nbformat": 4,
  "cells": [
    {
      "cell_type": "code",
      "source": "import numpy as np",
      "metadata": {
        "trusted": true
      },
      "execution_count": 1,
      "outputs": []
    },
    {
      "cell_type": "code",
      "source": "class HMM:\n    def __init__(self, stateSet, observationSet, transMatrix, obsMatrix, initDist ):\n        \n        self.stateSet = stateSet\n        self.observationSet = observationSet\n        \n        self.nStates = len(stateSet)\n        self.nObs = len(observationSet)    \n        \n        self.transMatrix = np.matrix(transMatrix)\n        self.obsMatrix = np.matrix(obsMatrix)\n        self.initDist = np.matrix(initDist)\n        \n        if(self.transMatrix.shape != (self.nStates, self.nStates)):\n            raise ValueError(\"La matriz de transición debe ser cuadrada de orden número de estados\")\n            \n        if(self.obsMatrix.shape != (self.nStates, self.nObs)):\n            raise ValueError(\"La matriz de emisión debe ser de orden número de estados por número de observaciones\")\n            \n        if(self.initDist.shape != (1,self.nStates)):\n            raise ValueError(\"La distribución inicial debe ser un vector de dimensión el número de estados\")\n\n        checkStochastic = lambda M: all(np.sum(row)==1.0 for row in M)\n        \n        if(not checkStochastic(self.transMatrix) or not checkStochastic(self.obsMatrix) or not checkStochastic(self.initDist)):\n            raise ValueError(\"Las filas deben sumar 1\")\n        \n    # Parameters:\n    # obsIndSeq: secuencia de observaciones indexado    \n    def computeAlpha(self, obsIndSeq):\n        \n        #Calcular α_0(i)\n        Alpha=[ [self.initDist[i]*self.nObs[i][obsIndSeq[0]] for i in range(self.nStates) ] ]\n        C = [ np.sum(Alpha[0]) ]\n        \n        \n        \n        \n        \n        \n    ",
      "metadata": {
        "trusted": true
      },
      "execution_count": 49,
      "outputs": []
    },
    {
      "cell_type": "code",
      "source": "example = HMM(2,3, np.matrix(np.matrix([[0.1,0.9],[0.2,0.8]])), np.matrix(np.matrix([[0.1,0.6,0.3],[0.2,0.8,0.0]])), np.matrix([0.5,0.5]) )",
      "metadata": {
        "trusted": true
      },
      "execution_count": 42,
      "outputs": []
    },
    {
      "cell_type": "code",
      "source": "np.matrix(np.array([0.5,0.5])).shape",
      "metadata": {
        "trusted": true
      },
      "execution_count": 22,
      "outputs": [
        {
          "execution_count": 22,
          "output_type": "execute_result",
          "data": {
            "text/plain": "(1, 2)"
          },
          "metadata": {}
        }
      ]
    },
    {
      "cell_type": "code",
      "source": "A=np.matrix([[0.1,0.9],[0.2,0.8]])\nfor a in A:\n    print(np.sum(a)==1.0)",
      "metadata": {
        "trusted": true
      },
      "execution_count": 45,
      "outputs": [
        {
          "name": "stdout",
          "text": "True\nTrue\n",
          "output_type": "stream"
        }
      ]
    },
    {
      "cell_type": "code",
      "source": "B=np.matrix([1,2])\nB=np.vstack([B,np.matrix([2,2])])\nB",
      "metadata": {
        "trusted": true
      },
      "execution_count": 67,
      "outputs": [
        {
          "execution_count": 67,
          "output_type": "execute_result",
          "data": {
            "text/plain": "matrix([[1, 2],\n        [2, 2]])"
          },
          "metadata": {}
        }
      ]
    }
  ]
}